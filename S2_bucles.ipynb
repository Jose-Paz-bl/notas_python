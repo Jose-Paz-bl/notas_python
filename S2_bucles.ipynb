{
  "nbformat": 4,
  "nbformat_minor": 0,
  "metadata": {
    "colab": {
      "provenance": [],
      "authorship_tag": "ABX9TyMLadJLWn111A2kKaXfMMwk",
      "include_colab_link": true
    },
    "kernelspec": {
      "name": "python3",
      "display_name": "Python 3"
    },
    "language_info": {
      "name": "python"
    }
  },
  "cells": [
    {
      "cell_type": "markdown",
      "metadata": {
        "id": "view-in-github",
        "colab_type": "text"
      },
      "source": [
        "<a href=\"https://colab.research.google.com/github/Jose-Paz-bl/notas_python/blob/main/S2_bucles.ipynb\" target=\"_parent\"><img src=\"https://colab.research.google.com/assets/colab-badge.svg\" alt=\"Open In Colab\"/></a>"
      ]
    },
    {
      "cell_type": "markdown",
      "source": [
        "# Introducción"
      ],
      "metadata": {
        "id": "Ao2zxFx7EIXp"
      }
    },
    {
      "cell_type": "markdown",
      "source": [],
      "metadata": {
        "id": "uOGT6xynJEsW"
      }
    },
    {
      "cell_type": "markdown",
      "source": [
        "# Operadores de asignación aumentada y funciones integradas"
      ],
      "metadata": {
        "id": "45X3mgR4ENxb"
      }
    },
    {
      "cell_type": "markdown",
      "source": [
        "Uso:\n",
        "\n",
        "**min(\"lista\")**\n",
        "\n",
        "**max(\"lista\")**\n",
        "\n",
        "**sum(\"lista\")**"
      ],
      "metadata": {
        "id": "r3apmHQ4RMlR"
      }
    },
    {
      "cell_type": "code",
      "source": [
        "it_speakers = 67.8\n",
        "# actualiza aquí el valor de la variablemediante asignacion aumentada\n",
        "it_speakers += 5\n",
        "# imprime aquí el valor de la variable\n",
        "print(it_speakers)"
      ],
      "metadata": {
        "colab": {
          "base_uri": "https://localhost:8080/"
        },
        "id": "bfRGwLwU6qbM",
        "outputId": "5ee9f1e2-44a7-41cd-9a6a-654ea192dca6"
      },
      "execution_count": 2,
      "outputs": [
        {
          "output_type": "stream",
          "name": "stdout",
          "text": [
            "72.8\n"
          ]
        }
      ]
    },
    {
      "cell_type": "code",
      "source": [
        "# Gasto total inicial\n",
        "total_spending = 0\n",
        "\n",
        "# Lista de gastos diarios\n",
        "daily_expenses = [20.5, 15.0, 22.75, 30.0, 25.0, 18.0, 19.5]\n",
        "\n",
        "# Final\n",
        "total_spending = sum(daily_expenses)\n",
        "\n",
        "print(f\"Gasto total de la semana: $ {total_spending}\")"
      ],
      "metadata": {
        "colab": {
          "base_uri": "https://localhost:8080/"
        },
        "id": "lNjPvS4x7Jib",
        "outputId": "1e8811f1-d83e-44da-d312-9708a8c673df"
      },
      "execution_count": null,
      "outputs": [
        {
          "output_type": "stream",
          "name": "stdout",
          "text": [
            "Gasto total de la semana: $ 150.75\n"
          ]
        }
      ]
    },
    {
      "cell_type": "code",
      "source": [
        "#Estás construyendo un programa para analizar los datos de ventas de una tienda minorista. El director de la tienda quiere que calcules los ingresos totales generados en una semana y averigües el importe de venta más alto y más bajo en un día\n",
        "\n",
        "#La salida esperada es esta:\n",
        "\n",
        "#Ingresos totales de la semana: $ 1722.0\n",
        "#Importe de ventas más alto en un día: $ 400.0\n",
        "#Importe de ventas más bajo en un día: $ 100.25\n",
        "\n",
        "# Lista de importes de ventas diarias en dólares\n",
        "daily_sales = [250.75, 300.5, 100.25, 400.0, 320.5, 200.0, 150.0]\n",
        "\n",
        "# Calcula los ingresos totales utilizando sum() y el operador de asignación aumentada\n",
        "total_revenue = sum(daily_sales)\n",
        "\n",
        "# Encuentra los importes de venta más altos y más bajos usando max() y min()\n",
        "highest_sales = max(daily_sales)\n",
        "lowest_sales = min(daily_sales)\n",
        "\n",
        "# Muestra los resultados\n",
        "print(\"Ingresos totales de la semana: $\", total_revenue)\n",
        "print(\"Importe de ventas más alto en un día: $\", highest_sales)\n",
        "print(\"Importe de ventas más bajo en un día: $\", lowest_sales)\n"
      ],
      "metadata": {
        "colab": {
          "base_uri": "https://localhost:8080/"
        },
        "id": "ZuUNK8hy9RFW",
        "outputId": "c5605e24-d798-4fab-c79b-73cb71af4d7c"
      },
      "execution_count": 3,
      "outputs": [
        {
          "output_type": "stream",
          "name": "stdout",
          "text": [
            "Ingresos totales de la semana: $ 1722.0\n",
            "Importe de ventas más alto en un día: $ 400.0\n",
            "Importe de ventas más bajo en un día: $ 100.25\n"
          ]
        }
      ]
    },
    {
      "cell_type": "markdown",
      "source": [
        "# Bucles for"
      ],
      "metadata": {
        "id": "Gp5A14P_ESHT"
      }
    },
    {
      "cell_type": "markdown",
      "source": [
        "Los bucles iteran sobre los elementos de una lista y realizan determinados procesos sobre estos puntos. Se puede usar para extraer información sobre determinados datos."
      ],
      "metadata": {
        "id": "LgNWyFzph9t_"
      }
    },
    {
      "cell_type": "code",
      "source": [
        "# sintaxis de bucle for\n",
        "payers = [56, 65, 64, 63]\n",
        "# escribe tu código aquí\n",
        "for payer in payers:\n",
        "  print(payer)"
      ],
      "metadata": {
        "colab": {
          "base_uri": "https://localhost:8080/"
        },
        "id": "8R0tT9bviN1f",
        "outputId": "aa59dd35-0c18-4e38-dda3-52a0dfff276d"
      },
      "execution_count": 7,
      "outputs": [
        {
          "output_type": "stream",
          "name": "stdout",
          "text": [
            "56\n",
            "65\n",
            "64\n",
            "63\n"
          ]
        }
      ]
    },
    {
      "cell_type": "code",
      "source": [
        "actors = ['John Travolta', 'Bonnie Hunt', 'Jason Bateman', 'Idris Elba']\n",
        "for actor in actors:\n",
        "  print(actor)"
      ],
      "metadata": {
        "colab": {
          "base_uri": "https://localhost:8080/"
        },
        "id": "5L_qEg6fi2lN",
        "outputId": "2b8db3a0-1bc4-451d-94b0-8b01d40e867a"
      },
      "execution_count": 8,
      "outputs": [
        {
          "output_type": "stream",
          "name": "stdout",
          "text": [
            "John Travolta\n",
            "Bonnie Hunt\n",
            "Jason Bateman\n",
            "Idris Elba\n"
          ]
        }
      ]
    },
    {
      "cell_type": "code",
      "source": [
        "elements = [42, 'hello', 0.5, -999, 'world']\n",
        "for element in elements:\n",
        "    print(element)\n",
        "# escribe tu código aquí"
      ],
      "metadata": {
        "id": "QWn233IQjMgy"
      },
      "execution_count": null,
      "outputs": []
    },
    {
      "cell_type": "code",
      "source": [
        "# bucle for en strings\n",
        "#Crea un bucle que imprima los caracteres del string uno por uno en líneas separadas\n",
        "message_japanese = '機械翻訳は通常良くありません'\n",
        "# escribe tu código aquí\n",
        "# en este caso se pudo usar split, pero como no hay separador, se recurrió a list\n",
        "list_message_japanese = list(message_japanese)\n",
        "\n",
        "for item in list_message_japanese:\n",
        "  print(item)\n",
        ""
      ],
      "metadata": {
        "colab": {
          "base_uri": "https://localhost:8080/"
        },
        "id": "XCjlbRiHjTV0",
        "outputId": "834ec8b5-9434-4927-a670-d709787aaf27"
      },
      "execution_count": 21,
      "outputs": [
        {
          "output_type": "stream",
          "name": "stdout",
          "text": [
            "機\n",
            "械\n",
            "翻\n",
            "訳\n",
            "は\n",
            "通\n",
            "常\n",
            "良\n",
            "く\n",
            "あ\n",
            "り\n",
            "ま\n",
            "せ\n",
            "ん\n"
          ]
        }
      ]
    },
    {
      "cell_type": "code",
      "source": [
        "#Se requiere que se proporcione la lista de nombres compeltos imprimiendo cada nombre en una línea separada.\n",
        "\n",
        "clients = [\n",
        "    [32456, \"Jack Wilson\", 32, 150000, \"Healthcare\"],\n",
        "    [34591, \"Nina Brown\", 45, 250000, \"Telecom\"],\n",
        "    [37512, \"Alex Smith\", 39, 210000, \"IT\"],\n",
        "    [39591, \"Brian Perez\", 29, 340000, \"Transportation\"],\n",
        "    [45123, \"Sarah Lee\", 28, 120000, \"Marketing\"],\n",
        "    [47635, \"David Kim\", 36, 180000, \"Finance\"],\n",
        "    [49571, \"Samantha Chen\", 42, 220000, \"Retail\"],\n",
        "    [50391, \"Juan Rodriguez\", 31, 160000, \"Architecture\"],\n",
        "]\n",
        "\n",
        "# escribe tu código aquí\n",
        "count = 0\n",
        "for client in clients:\n",
        "  print(client[1])\n",
        ""
      ],
      "metadata": {
        "colab": {
          "base_uri": "https://localhost:8080/"
        },
        "id": "iQHwKgJ4qo-I",
        "outputId": "5af2a43c-f41c-4118-fc56-f5913820fde4"
      },
      "execution_count": 29,
      "outputs": [
        {
          "output_type": "stream",
          "name": "stdout",
          "text": [
            "Jack Wilson\n",
            "Nina Brown\n",
            "Alex Smith\n",
            "Brian Perez\n",
            "Sarah Lee\n",
            "David Kim\n",
            "Samantha Chen\n",
            "Juan Rodriguez\n"
          ]
        }
      ]
    },
    {
      "cell_type": "markdown",
      "source": [
        "# Bucles en listas anidadas"
      ],
      "metadata": {
        "id": "1RZpGrDZEUhd"
      }
    },
    {
      "cell_type": "code",
      "source": [
        "# Muestra el género de cada película a través deun bucle for\n",
        "\n",
        "movies_info = [\n",
        "    ['The Shawshank Redemption', 'USA', 1994, 'drama', 142, 9.111],\n",
        "    ['The Godfather', 'USA', 1972, 'drama, crime', 175, 8.730],\n",
        "    ['The Dark Knight', 'USA', 2008, 'fantasy, action, thriller', 152, 8.499],\n",
        "    [\"Schindler's List\", 'USA', 1993, 'drama', 195, 8.818],\n",
        "    ['The Lord of the Rings: The Return of the King', 'New Zealand', 2003, 'fantasy, adventure, drama', 201, 8.625],\n",
        "    ['Pulp Fiction', 'USA', 1994, 'thriller, comedy, crime', 154, 8.619],\n",
        "    ['The Good, the Bad and the Ugly', 'Italy', 1966, 'western', 178, 8.521],\n",
        "    ['Fight Club', 'USA', 1999, 'thriller, drama, crime', 139, 8.644],\n",
        "    ['Harakiri', 'Japan', 1962, 'drama, action, history', 133, 8.106],\n",
        "    ['Good Will Hunting', 'USA', 1997, 'drama, romance', 126, 8.077]\n",
        "]\n",
        "\n",
        "# escribe tu código aquí\n",
        "\n",
        "for genre in movies_info:\n",
        "  print(genre[3])"
      ],
      "metadata": {
        "colab": {
          "base_uri": "https://localhost:8080/"
        },
        "id": "y_5vQL_8KdWD",
        "outputId": "047b5100-aa1c-4453-82d1-6358180bb963"
      },
      "execution_count": 1,
      "outputs": [
        {
          "output_type": "stream",
          "name": "stdout",
          "text": [
            "drama\n",
            "drama, crime\n",
            "fantasy, action, thriller\n",
            "drama\n",
            "fantasy, adventure, drama\n",
            "thriller, comedy, crime\n",
            "western\n",
            "thriller, drama, crime\n",
            "drama, action, history\n",
            "drama, romance\n"
          ]
        }
      ]
    },
    {
      "cell_type": "code",
      "source": [
        "# Convertir la duración de películas a horas (actualmente en minutos)\n",
        "\n",
        "movies_info = [\n",
        "    ['The Shawshank Redemption', 'USA', 1994, 'drama', 142, 9.111],\n",
        "    ['The Godfather', 'USA', 1972, 'drama, crime', 175, 8.730],\n",
        "    ['The Dark Knight', 'USA', 2008, 'fantasy, action, thriller', 152, 8.499],\n",
        "    [\"Schindler's List\", 'USA', 1993, 'drama', 195, 8.818],\n",
        "    ['The Lord of the Rings: The Return of the King', 'New Zealand', 2003, 'fantasy, adventure, drama', 201, 8.625],\n",
        "    ['Pulp Fiction', 'USA', 1994, 'thriller, comedy, crime', 154, 8.619],\n",
        "    ['The Good, the Bad and the Ugly', 'Italy', 1966, 'western', 178, 8.521],\n",
        "    ['Fight Club', 'USA', 1999, 'thriller, drama, crime', 139, 8.644],\n",
        "    ['Harakiri', 'Japan', 1962, 'drama, action, history', 133, 8.106],\n",
        "    ['Good Will Hunting', 'USA', 1997, 'drama, romance', 126, 8.077]\n",
        "]\n",
        "\n",
        "for row in movies_info:\n",
        "  #se extrae la lista con las duraciones en minutos\n",
        "    runtime = row[4]\n",
        "  # se divide cada elemento de la lista anterior / 60\n",
        "    runtime = runtime / 60 # convierte la duración extraída a horas\n",
        "    print(runtime)\n"
      ],
      "metadata": {
        "colab": {
          "base_uri": "https://localhost:8080/"
        },
        "id": "L1Z-_3oAMVUg",
        "outputId": "eae32c8e-1390-44c6-d837-b84c16f36ecc"
      },
      "execution_count": 3,
      "outputs": [
        {
          "output_type": "stream",
          "name": "stdout",
          "text": [
            "2.3666666666666667\n",
            "2.9166666666666665\n",
            "2.533333333333333\n",
            "3.25\n",
            "3.35\n",
            "2.566666666666667\n",
            "2.966666666666667\n",
            "2.316666666666667\n",
            "2.216666666666667\n",
            "2.1\n"
          ]
        }
      ]
    },
    {
      "cell_type": "code",
      "source": [
        "# Lista anidada de pedidos: [precio, cantidad, descuento]. Se busca obtener la venta total y el valor maximo de un pedido\n",
        "\n",
        "orders = [\n",
        "    [199.99, 2, 0.10],  # 10% de descuento\n",
        "    [349.99, 1, 0.05],  # 5% de descuento\n",
        "    [129.99, 3, 0.00],  # Sin descuento\n",
        "    [499.99, 1, 0.20],  # 20% de descuento\n",
        "    [249.99, 4, 0.15],  # 15% de descuento\n",
        "]\n",
        "# Inicializa las variables\n",
        "total_revenue = 0\n",
        "highest_order_value = 0\n",
        "net_values = [] # Define una lista vacía\n",
        "\n",
        "# Recorre los pedidos\n",
        "for pedido in orders :\n",
        "# Define tres variables a las cuales asignarás el precio, descuento y cantidad.\n",
        "  precio = pedido[0]\n",
        "  cantidad = pedido[1]\n",
        "  descuento = pedido[2]\n",
        "# Calcula el valor de la compra con descuento incluido.\n",
        "  net_value = (precio * cantidad) - (precio * cantidad) * descuento\n",
        "  print(net_value)\n",
        "\n",
        "# Almacena el valor neto individual en una lista\n",
        "  net_values.append(net_value)\n",
        "# Añade a los ingresos totales utilizando la asignación aumentada\n",
        "  total_revenue += net_value\n",
        "## Obtén el valor máximo de la lista\n",
        "  highest_order_value = max(net_values)\n",
        "\n",
        "print(\"Ingresos totales después de descuentos y tasas:\", total_revenue) # Salida: Ingresos totales después de descuentos y tasas: 2332.4005\n",
        "print(\"Valor máximo de un pedido:\", highest_order_value)  # Salida: Valor de pedido único más alto: 849.966"
      ],
      "metadata": {
        "colab": {
          "base_uri": "https://localhost:8080/"
        },
        "id": "wPXvTcsLNUJV",
        "outputId": "ba81c358-ea8c-439b-fb16-862817271049"
      },
      "execution_count": 42,
      "outputs": [
        {
          "output_type": "stream",
          "name": "stdout",
          "text": [
            "359.982\n",
            "332.4905\n",
            "389.97\n",
            "399.992\n",
            "849.966\n",
            "Ingresos totales después de descuentos y tasas: 2332.4005\n",
            "Valor máximo de un pedido: 849.966\n"
          ]
        }
      ]
    },
    {
      "cell_type": "markdown",
      "source": [
        "# Bucles while"
      ],
      "metadata": {
        "id": "WEHyQi1OEWrN"
      }
    },
    {
      "cell_type": "markdown",
      "source": [
        "Los bucles while ejecutan código mientras se cumple alguna condición."
      ],
      "metadata": {
        "id": "DRQ5kc0MYV7M"
      }
    },
    {
      "cell_type": "code",
      "source": [
        "start = 29\n",
        "check = 'Error - While no ejecutado.'\n",
        "\n",
        "while start < 30 and start > 28:\n",
        "    start += 10\n",
        "    check = '¡Listo! While ejecutado.'\n",
        "\n",
        "print(check)"
      ],
      "metadata": {
        "colab": {
          "base_uri": "https://localhost:8080/"
        },
        "id": "g4kgLXz2YUN8",
        "outputId": "0521c212-5c20-4b7c-9fc6-e6c1c8d740d0"
      },
      "execution_count": 48,
      "outputs": [
        {
          "output_type": "stream",
          "name": "stdout",
          "text": [
            "¡Listo! While ejecutado.\n"
          ]
        }
      ]
    },
    {
      "cell_type": "markdown",
      "source": [
        "Teniendo en cuenta que Jack percibe 150.000 al año, el primer año tendrá 150.000, el segundo 300.000, y así hasta que haya acumulado 1.050.000 durante el séptimo año. Entonces, el código mostrará en pantalla 7, que es la cantidad de años que tardó Jack en alcanzar (y superar) el millón en ingresos.\n",
        "\n"
      ],
      "metadata": {
        "id": "0O2A5iZtY0C4"
      }
    },
    {
      "cell_type": "code",
      "source": [
        "\n",
        "\n",
        "\n",
        "annual_income = 150000 # ingreso anual de Jack\n",
        "target_income = 1000000 # ingreso objetivo\n",
        "\n",
        "total_income_sum = 0 # ingresos totales que se actualizarán para cada año\n",
        "years_to_million = 0 # cantidad de años que también se actualizará\n",
        "\n",
        "while total_income_sum < target_income:\n",
        "    total_income_sum += annual_income\n",
        "    years_to_million += 1\n",
        "\n",
        "print(years_to_million)"
      ],
      "metadata": {
        "colab": {
          "base_uri": "https://localhost:8080/"
        },
        "id": "uPPODsGDYwxs",
        "outputId": "47ee5445-282b-4757-8705-92d619a1abcb"
      },
      "execution_count": 49,
      "outputs": [
        {
          "output_type": "stream",
          "name": "stdout",
          "text": [
            "7\n"
          ]
        }
      ]
    },
    {
      "cell_type": "markdown",
      "source": [
        "# Pruebas"
      ],
      "metadata": {
        "id": "WIo5ZLbnEZ32"
      }
    }
  ]
}