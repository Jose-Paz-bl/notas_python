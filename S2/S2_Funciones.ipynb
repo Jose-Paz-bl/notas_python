{
  "nbformat": 4,
  "nbformat_minor": 0,
  "metadata": {
    "colab": {
      "provenance": [],
      "toc_visible": true,
      "authorship_tag": "ABX9TyN+saGzg7QFuK4/CBZgeqHY",
      "include_colab_link": true
    },
    "kernelspec": {
      "name": "python3",
      "display_name": "Python 3"
    },
    "language_info": {
      "name": "python"
    }
  },
  "cells": [
    {
      "cell_type": "markdown",
      "metadata": {
        "id": "view-in-github",
        "colab_type": "text"
      },
      "source": [
        "<a href=\"https://colab.research.google.com/github/Jose-Paz-bl/notas_python/blob/main/S2_Funciones.ipynb\" target=\"_parent\"><img src=\"https://colab.research.google.com/assets/colab-badge.svg\" alt=\"Open In Colab\"/></a>"
      ]
    },
    {
      "cell_type": "code",
      "execution_count": null,
      "metadata": {
        "id": "ZKI_DRmmbZ65"
      },
      "outputs": [],
      "source": []
    },
    {
      "cell_type": "markdown",
      "source": [
        "# Sintaxis"
      ],
      "metadata": {
        "id": "H-dENlERbfoe"
      }
    },
    {
      "cell_type": "code",
      "source": [
        "def tenis_players(fname):\n",
        "# escribe tu código aquí\n",
        "  result = fname + \" es un tenista\"\n",
        "  return result\n",
        "\n",
        "print(tenis_players(\"Rafael Nadal\"))\n",
        "print(tenis_players(\"Novak Djokovic\"))\n",
        "print(tenis_players(\"Roger Federer\"))"
      ],
      "metadata": {
        "colab": {
          "base_uri": "https://localhost:8080/"
        },
        "id": "OCMBCcPEdq8y",
        "outputId": "e7a434d0-78e5-476b-8d44-4a867d1c43c9"
      },
      "execution_count": 11,
      "outputs": [
        {
          "output_type": "stream",
          "name": "stdout",
          "text": [
            "Rafael Nadal es un tenista\n",
            "Novak Djokovic es un tenista\n",
            "Roger Federer es un tenista\n"
          ]
        }
      ]
    },
    {
      "cell_type": "code",
      "source": [
        "clients_list = [\n",
        "       [47635, \"David Kim\", 36, 180000, \"Finance\"],\n",
        "        [49571, \"Samantha Chen\", 42, 220000, \"Retail\"],\n",
        "        [50391, \"Juan Rodriguez\", 31, 160000, \"Architecture\"],\n",
        "        [34556, \"Lucas Hernandez\", 37, 75000, \"Education\"],\n",
        "        [64291, \"Jessica Li\", 25, 125000, \"IT\"],\n",
        "        [104556, \"William Brown\", 38, 289000, \"Finance\"],\n",
        "        [105491, \"Emily Smith\", 29, 193000, \"Healthcare\"],\n",
        "        [107512, \"Michael Perez\", 53, 415000, \"Transportation\"]]\n",
        "\n",
        "\n",
        "# crea aquí tu función filter_clients. Usar la lista de clientes y el field como parámetros\n",
        "def filter_clients(clients, field):\n",
        "\n",
        "#Cree la variable por fuera del bucle para que se fueran agregando conforme se corre el bucle\n",
        "  finance_client = []\n",
        "\n",
        "  for client in clients:\n",
        "    #Apunté al campo del filtro\n",
        "    field = client[4]\n",
        "    #Si el campo coincide con el filtro, se agrega a la lista fuera del bucle\n",
        "    if field == \"Finance\":\n",
        "      finance_client.append(client)\n",
        "\n",
        "  return finance_client\n",
        "\n",
        "filtered_list = filter_clients(clients_list,\"Finance\")\n",
        "\n",
        "# muestra el resultado\n",
        "print(filtered_list)"
      ],
      "metadata": {
        "colab": {
          "base_uri": "https://localhost:8080/"
        },
        "id": "ILqvYCNSeV-2",
        "outputId": "bc5d300e-cc0d-4549-c637-ee5fe35787fd"
      },
      "execution_count": 108,
      "outputs": [
        {
          "output_type": "stream",
          "name": "stdout",
          "text": [
            "[[47635, 'David Kim', 36, 180000, 'Finance'], [104556, 'William Brown', 38, 289000, 'Finance']]\n"
          ]
        }
      ]
    },
    {
      "cell_type": "markdown",
      "source": [
        "# Uso de funciones para simplificar código"
      ],
      "metadata": {
        "id": "A0Q5q5x3bhbU"
      }
    },
    {
      "cell_type": "markdown",
      "source": [
        "# Funciones de filtro"
      ],
      "metadata": {
        "id": "eEcZYyU6blSb"
      }
    },
    {
      "cell_type": "markdown",
      "source": [
        "# Variables globales y locales"
      ],
      "metadata": {
        "id": "gJsAWWYUbnW2"
      }
    },
    {
      "cell_type": "markdown",
      "source": [
        "# Pruebas"
      ],
      "metadata": {
        "id": "AlIbSXbZbqRD"
      }
    }
  ]
}
