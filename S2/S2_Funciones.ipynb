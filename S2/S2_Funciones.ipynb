{
  "nbformat": 4,
  "nbformat_minor": 0,
  "metadata": {
    "colab": {
      "provenance": [],
      "toc_visible": true,
      "authorship_tag": "ABX9TyPWsNdca13yp90FFc6HyiV6",
      "include_colab_link": true
    },
    "kernelspec": {
      "name": "python3",
      "display_name": "Python 3"
    },
    "language_info": {
      "name": "python"
    }
  },
  "cells": [
    {
      "cell_type": "markdown",
      "metadata": {
        "id": "view-in-github",
        "colab_type": "text"
      },
      "source": [
        "<a href=\"https://colab.research.google.com/github/Jose-Paz-bl/notas_python/blob/main/S2/S2_Funciones.ipynb\" target=\"_parent\"><img src=\"https://colab.research.google.com/assets/colab-badge.svg\" alt=\"Open In Colab\"/></a>"
      ]
    },
    {
      "cell_type": "code",
      "execution_count": null,
      "metadata": {
        "id": "ZKI_DRmmbZ65"
      },
      "outputs": [],
      "source": []
    },
    {
      "cell_type": "markdown",
      "source": [
        "# Sintaxis"
      ],
      "metadata": {
        "id": "H-dENlERbfoe"
      }
    },
    {
      "cell_type": "code",
      "source": [
        "def tenis_players(fname):\n",
        "# escribe tu código aquí\n",
        "  result = fname + \" es un tenista\"\n",
        "  return result\n",
        "\n",
        "print(tenis_players(\"Rafael Nadal\"))\n",
        "print(tenis_players(\"Novak Djokovic\"))\n",
        "print(tenis_players(\"Roger Federer\"))"
      ],
      "metadata": {
        "colab": {
          "base_uri": "https://localhost:8080/"
        },
        "id": "OCMBCcPEdq8y",
        "outputId": "e7a434d0-78e5-476b-8d44-4a867d1c43c9"
      },
      "execution_count": null,
      "outputs": [
        {
          "output_type": "stream",
          "name": "stdout",
          "text": [
            "Rafael Nadal es un tenista\n",
            "Novak Djokovic es un tenista\n",
            "Roger Federer es un tenista\n"
          ]
        }
      ]
    },
    {
      "cell_type": "code",
      "source": [
        "clients_list = [\n",
        "       [47635, \"David Kim\", 36, 180000, \"Finance\"],\n",
        "        [49571, \"Samantha Chen\", 42, 220000, \"Retail\"],\n",
        "        [50391, \"Juan Rodriguez\", 31, 160000, \"Architecture\"],\n",
        "        [34556, \"Lucas Hernandez\", 37, 75000, \"Education\"],\n",
        "        [64291, \"Jessica Li\", 25, 125000, \"IT\"],\n",
        "        [104556, \"William Brown\", 38, 289000, \"Finance\"],\n",
        "        [105491, \"Emily Smith\", 29, 193000, \"Healthcare\"],\n",
        "        [107512, \"Michael Perez\", 53, 415000, \"Transportation\"]]\n",
        "\n",
        "\n",
        "# crea aquí tu función filter_clients. Usar la lista de clientes y el field como parámetros\n",
        "def filter_clients(clients, field):\n",
        "\n",
        "#Cree la variable por fuera del bucle para que se fueran agregando conforme se corre el bucle\n",
        "  finance_client = []\n",
        "\n",
        "  for client in clients:\n",
        "    #Apunté al campo del filtro\n",
        "    field = client[4]\n",
        "    #Si el campo coincide con el filtro, se agrega a la lista fuera del bucle\n",
        "    if field == \"Finance\":\n",
        "      finance_client.append(client)\n",
        "\n",
        "  return finance_client\n",
        "\n",
        "filtered_list = filter_clients(clients_list,\"Finance\")\n",
        "\n",
        "# muestra el resultado\n",
        "print(filtered_list)"
      ],
      "metadata": {
        "colab": {
          "base_uri": "https://localhost:8080/"
        },
        "id": "ILqvYCNSeV-2",
        "outputId": "bc5d300e-cc0d-4549-c637-ee5fe35787fd"
      },
      "execution_count": null,
      "outputs": [
        {
          "output_type": "stream",
          "name": "stdout",
          "text": [
            "[[47635, 'David Kim', 36, 180000, 'Finance'], [104556, 'William Brown', 38, 289000, 'Finance']]\n"
          ]
        }
      ]
    },
    {
      "cell_type": "markdown",
      "source": [
        "# Uso de funciones para simplificar código"
      ],
      "metadata": {
        "id": "A0Q5q5x3bhbU"
      }
    },
    {
      "cell_type": "code",
      "source": [
        "# escribe aquí tu código para definir una función que calcule el precio total\n",
        "def calculate_total_price(price, quantity):\n",
        "  total = price * quantity\n",
        "  return total\n",
        "\n",
        "\n",
        "# Define los precios y la cantidad de los tres artículos\n",
        "item_price_1 = 20.0\n",
        "item_quantity_1 = 20\n",
        "\n",
        "item_price_2 = 30.0\n",
        "item_quantity_2 = 1\n",
        "\n",
        "item_price_3 = 10.0\n",
        "item_quantity_3 = 6\n",
        "\n",
        "\n",
        "# Llama a la función para cada artículo y almacena el resultado en una variable\n",
        "item_total_1 = calculate_total_price(item_price_1,item_quantity_1)\n",
        "item_total_2 = calculate_total_price(item_price_2,item_quantity_2)\n",
        "item_total_3 = calculate_total_price(item_price_3,item_quantity_3)\n",
        "\n",
        "\n",
        "# Imprime el precio total de cada artículo del carrito\n",
        "print(item_total_1)\n",
        "print(item_total_2)\n",
        "print(item_total_3)\n"
      ],
      "metadata": {
        "colab": {
          "base_uri": "https://localhost:8080/"
        },
        "id": "bjAv0b0cayo2",
        "outputId": "abf75028-c133-450f-fbb4-3c325928383e"
      },
      "execution_count": null,
      "outputs": [
        {
          "output_type": "stream",
          "name": "stdout",
          "text": [
            "400.0\n",
            "30.0\n",
            "60.0\n"
          ]
        }
      ]
    },
    {
      "cell_type": "code",
      "source": [
        "# Define una función que tome dos parámetros: precio y cantidad\n",
        "def calculate_total_price(price, quantity):\n",
        "    # Calcula el precio total de un artículo concreto del carrito\n",
        "    total = price * quantity\n",
        "\n",
        "\t\t## COMPLETA AQUI EL CODIGO\n",
        "    if quantity >= 5:\n",
        "      total = total * 0.9\n",
        "    # Devuelve el precio total de ese artículo del carrito\n",
        "    return total\n",
        "\n",
        "\n",
        "# Define los precios y la cantidad de los tres artículos\n",
        "item_price_1 = 20.0\n",
        "item_quantity_1 = 20\n",
        "\n",
        "item_price_2 = 30.0\n",
        "item_quantity_2 = 1\n",
        "\n",
        "item_price_3 = 10.0\n",
        "item_quantity_3 = 6\n",
        "\n",
        "\n",
        "# Llama a la función para cada artículo y almacena el resultado en una variable\n",
        "item_total_1 = calculate_total_price(item_price_1, item_quantity_1)\n",
        "item_total_2 = calculate_total_price(item_price_2, item_quantity_2)\n",
        "item_total_3 = calculate_total_price(item_price_3, item_quantity_3)\n",
        "\n",
        "\n",
        "# Imprime el precio total de cada artículo del carrito\n",
        "print(item_total_1)\n",
        "print(item_total_2)\n",
        "print(item_total_3)"
      ],
      "metadata": {
        "colab": {
          "base_uri": "https://localhost:8080/"
        },
        "id": "WnXK4uT0cM4T",
        "outputId": "e5291dd2-fa1f-4d6c-a763-768bdf35d564"
      },
      "execution_count": null,
      "outputs": [
        {
          "output_type": "stream",
          "name": "stdout",
          "text": [
            "360.0\n",
            "30.0\n",
            "54.0\n"
          ]
        }
      ]
    },
    {
      "cell_type": "code",
      "source": [
        "# Inventario inicial almacenado en diccionarios\n",
        "inventory = [\n",
        "    {\"titulo\": \"Cien años de soledad\", \"autor\": \"Gabriel García Márquez\", \"disponible\": True},\n",
        "    {\"titulo\": \"La casa de los espíritus\", \"autor\": \"Isabel Allende\", \"disponible\": True},\n",
        "    {\"titulo\": \"Rayuela\", \"autor\": \"Julio Cortázar\", \"disponible\": False},\n",
        "]\n",
        "\n",
        "\n",
        "#1 Definir la función para verificar disponibilidad\n",
        "def check_availability(titulo):\n",
        "    #2 Crear un bucle para recorrer cada libro\n",
        "  for libro in inventory:\n",
        "    #3 Revisar si el libro está en el inventario y su estado es \"disponible\"\n",
        "    if libro[\"titulo\"] == titulo and libro[\"disponible\"]:\n",
        "    #4 Imprimir la frase \"'{titulo}' está disponible.\" si está disponible\n",
        "      return print(f\"'{titulo}' está disponible.\")\n",
        "    #5 Si no se encuentra, imprimir el mensaje \"'{titulo}' no está en el inventario.\"\n",
        "    else:\n",
        "      return print(f\"'{titulo}' no está en el inventario.\")\n",
        "\n",
        "\n",
        "# Uso de la función\n",
        "check_availability(\"Cien años de soledad\")\n",
        "check_availability(\"Pedro Páramo\")"
      ],
      "metadata": {
        "colab": {
          "base_uri": "https://localhost:8080/"
        },
        "id": "UXUPZO89ecRU",
        "outputId": "e06cf93a-b4f2-4468-dfca-46cbfb90d037"
      },
      "execution_count": null,
      "outputs": [
        {
          "output_type": "stream",
          "name": "stdout",
          "text": [
            "'Cien años de soledad' está disponible.\n",
            "'Pedro Páramo' no está en el inventario\n"
          ]
        }
      ]
    },
    {
      "cell_type": "code",
      "source": [
        "# Inventario inicial\n",
        "inventory = [\n",
        "    {\"titulo\": \"Cien años de soledad\", \"autor\": \"Gabriel García Márquez\", \"disponible\": True},\n",
        "    {\"titulo\": \"La casa de los espíritus\", \"autor\": \"Isabel Allende\", \"disponible\": True},\n",
        "    {\"titulo\": \"Rayuela\", \"autor\": \"Julio Cortázar\", \"disponible\": False},\n",
        "]\n",
        "\n",
        "#1 Definir la función para agregar un libro\n",
        "def add_book(titulo, autor, disponible):\n",
        "    #2 Crear un diccionario que contenga los datos del libro\n",
        "    new_book = {\n",
        "        \"titulo\": titulo,\n",
        "        \"autor\": autor,\n",
        "        \"disponible\": disponible\n",
        "    }\n",
        "    #3 Agregar el nuevo libro al inventario con append()\n",
        "    inventory.append(new_book)\n",
        "#4 Definir la función para verificar disponibilidad\n",
        "def check_availability(titulo):\n",
        "    for book in inventory:\n",
        "        #5 Revisar si el libro está en el inventario y disponible\n",
        "        if book[\"titulo\"] == titulo and book[\"disponible\"]:\n",
        "            print(f\"'{titulo}' está disponible.\")\n",
        "            return\n",
        "    #6 Si no se encuentra, imprimir el mensaje de no disponibilidad\n",
        "    print(f\"'{titulo}' no está en el inventario.\")\n",
        "\n",
        "# Uso de las funciones\n",
        "add_book(\"Pedro Páramo\", \"Juan Rulfo\", disponible=True)\n",
        "check_availability(\"Pedro Páramo\")"
      ],
      "metadata": {
        "colab": {
          "base_uri": "https://localhost:8080/"
        },
        "id": "HWuIujutmV_6",
        "outputId": "c102bb6c-4b35-4cfc-f131-d5795c6eeb02"
      },
      "execution_count": null,
      "outputs": [
        {
          "output_type": "stream",
          "name": "stdout",
          "text": [
            "'Pedro Páramo' está disponible.\n"
          ]
        }
      ]
    },
    {
      "cell_type": "markdown",
      "source": [
        "# Funciones de filtro"
      ],
      "metadata": {
        "id": "eEcZYyU6blSb"
      }
    },
    {
      "cell_type": "code",
      "source": [
        "def filter_by_timing(data, target_duration):\n",
        "    filtered_result = []\n",
        "    for row in data:\n",
        "        if row[4] > target_duration:\n",
        "            filtered_result.append(row)\n",
        "    return filtered_result\n",
        "\n",
        "def print_movie_info(data):\n",
        "    for movie in data:\n",
        "        print(movie)\n",
        "\n",
        "movies_info = [\n",
        "    ['The Shawshank Redemption', 'USA', 1994, 'drama', 142, 9.111],\n",
        "    ['The Godfather', 'USA', 1972, 'drama, crime', 175, 8.730],\n",
        "    ['The Dark Knight', 'USA', 2008, 'fantasy, action, thriller', 152, 8.499],\n",
        "    [\"Schindler's List\", 'USA', 1993, 'drama', 195, 8.818],\n",
        "    ['The Lord of the Rings: The Return of the King', 'New Zealand', 2003, 'fantasy, adventure, drama', 201, 8.625],\n",
        "    ['Pulp Fiction', 'USA', 1994, 'thriller, comedy, crime', 154, 8.619],\n",
        "    ['The Good, the Bad and the Ugly', 'Italy', 1966, 'western', 178, 8.521],\n",
        "    ['Fight Club', 'USA', 1999, 'thriller, drama, crime', 139, 8.644],\n",
        "    ['Harakiri', 'Japan', 1962, 'drama, action, history', 133, 8.106],\n",
        "    ['Good Will Hunting', 'USA', 1997, 'drama, romance', 126, 8.077]\n",
        "]\n",
        "\n",
        "# llama aquí a la función de filtrado\n",
        "movies_filtered = filter_by_timing(movies_info, 140)\n",
        "# llama a la función para mostrar los resultados aquí\n",
        "print_movie_info(movies_filtered)"
      ],
      "metadata": {
        "colab": {
          "base_uri": "https://localhost:8080/"
        },
        "id": "ThLP9RCYozSs",
        "outputId": "b3f92ed4-d0d6-4775-b83d-7d505c82c0a8"
      },
      "execution_count": 2,
      "outputs": [
        {
          "output_type": "stream",
          "name": "stdout",
          "text": [
            "['The Shawshank Redemption', 'USA', 1994, 'drama', 142, 9.111]\n",
            "['The Godfather', 'USA', 1972, 'drama, crime', 175, 8.73]\n",
            "['The Dark Knight', 'USA', 2008, 'fantasy, action, thriller', 152, 8.499]\n",
            "[\"Schindler's List\", 'USA', 1993, 'drama', 195, 8.818]\n",
            "['The Lord of the Rings: The Return of the King', 'New Zealand', 2003, 'fantasy, adventure, drama', 201, 8.625]\n",
            "['Pulp Fiction', 'USA', 1994, 'thriller, comedy, crime', 154, 8.619]\n",
            "['The Good, the Bad and the Ugly', 'Italy', 1966, 'western', 178, 8.521]\n"
          ]
        }
      ]
    },
    {
      "cell_type": "code",
      "source": [
        "# esta función muestra la tabla filtrada. No modificar\n",
        "def print_movie_info(data):\n",
        "    for movie in data:\n",
        "        print(movie)\n",
        "\n",
        "# Utiliza como referencia la función que definiste en el ejercicio anterior.\n",
        "# Renombra la funcion y realiza los ajustes necesarios para crear filter_by_year()\n",
        "def filter_by_year(data,year):\n",
        "    filtered_result = []\n",
        "    for row in data:\n",
        "        if row[2] > year: # Pista: aquí debes cambiar el elemento de la fila que comparas\n",
        "            filtered_result.append(row)\n",
        "    return filtered_result\n",
        "\n",
        "\n",
        "movies_info = [\n",
        "    ['The Shawshank Redemption', 'USA', 1994, 'drama', 142, 9.111],\n",
        "    ['The Godfather', 'USA', 1972, 'drama, crime', 175, 8.730],\n",
        "    ['The Dark Knight', 'USA', 2008, 'fantasy, action, thriller', 152, 8.499],\n",
        "    [\"Schindler's List\", 'USA', 1993, 'drama', 195, 8.818],\n",
        "    ['The Lord of the Rings: The Return of the King', 'New Zealand', 2003, 'fantasy, adventure, drama', 201, 8.625],\n",
        "    ['Pulp Fiction', 'USA', 1994, 'thriller, comedy, crime', 154, 8.619],\n",
        "    ['The Good, the Bad and the Ugly', 'Italy', 1966, 'western', 178, 8.521],\n",
        "    ['Fight Club', 'USA', 1999, 'thriller, drama, crime', 139, 8.644],\n",
        "    ['Harakiri', 'Japan', 1962, 'drama, action, history', 133, 8.106],\n",
        "    ['Good Will Hunting', 'USA', 1997, 'drama, romance', 126, 8.077]\n",
        "]\n",
        "\n",
        "# A continuación tienes dos llamadas a funciones: una para filtrar y otra para mostrar el resultado en pantalla\n",
        "movies_filtered = filter_by_year(movies_info, 1990)\n",
        "print_movie_info(movies_filtered)"
      ],
      "metadata": {
        "colab": {
          "base_uri": "https://localhost:8080/"
        },
        "id": "Gf0rrnokp8uq",
        "outputId": "5b1a056d-efdb-40c2-afef-2ed5f1d1b960"
      },
      "execution_count": 4,
      "outputs": [
        {
          "output_type": "stream",
          "name": "stdout",
          "text": [
            "['The Shawshank Redemption', 'USA', 1994, 'drama', 142, 9.111]\n",
            "['The Dark Knight', 'USA', 2008, 'fantasy, action, thriller', 152, 8.499]\n",
            "[\"Schindler's List\", 'USA', 1993, 'drama', 195, 8.818]\n",
            "['The Lord of the Rings: The Return of the King', 'New Zealand', 2003, 'fantasy, adventure, drama', 201, 8.625]\n",
            "['Pulp Fiction', 'USA', 1994, 'thriller, comedy, crime', 154, 8.619]\n",
            "['Fight Club', 'USA', 1999, 'thriller, drama, crime', 139, 8.644]\n",
            "['Good Will Hunting', 'USA', 1997, 'drama, romance', 126, 8.077]\n"
          ]
        }
      ]
    },
    {
      "cell_type": "markdown",
      "source": [
        "# Variables globales y locales"
      ],
      "metadata": {
        "id": "gJsAWWYUbnW2"
      }
    },
    {
      "cell_type": "code",
      "source": [
        "# Variable global que representa el saldo bancario inicial\n",
        "balance = 1000\n",
        "\n",
        "# Muestra el saldo inicial\n",
        "print(f\"Saldo inicial: {balance}\")\n",
        "\n",
        "# Función para realizar una operación de depósito\n",
        "def deposit_money(amount):\n",
        "    global balance  # Accede a la variable global 'balance'\n",
        "    local_balance = balance  # Variable local para realizar un seguimiento del saldo temporal\n",
        "\n",
        "    #Completa el código aquí actualizando local_balance\n",
        "    ## ESCRIBE TU CODIGO AQUI\n",
        "    local_balance += amount\n",
        "\n",
        "    # Actualiza el saldo global\n",
        "    balance = local_balance\n",
        "\n",
        "# Realiza operaciones de depósito\n",
        "deposit_money(200)  # Depositar 200\n",
        "print(f\"Saldo global actualizado: {balance}\")\n",
        "\n",
        "deposit_money(150)  # Depositar 150\n",
        "print(f\"Saldo global actualizado: {balance}\")"
      ],
      "metadata": {
        "colab": {
          "base_uri": "https://localhost:8080/"
        },
        "id": "sNiuOwGesfZJ",
        "outputId": "bc090bff-e40f-45bc-cca1-133cc5618130"
      },
      "execution_count": 6,
      "outputs": [
        {
          "output_type": "stream",
          "name": "stdout",
          "text": [
            "Saldo inicial: 1000\n",
            "Saldo global actualizado: 1200\n",
            "Saldo global actualizado: 1350\n"
          ]
        }
      ]
    },
    {
      "cell_type": "code",
      "source": [
        "# Diccionario global que representa los niveles de inventario actuales\n",
        "inventory = {\n",
        "    'manzana': 50,\n",
        "    'plátano': 30,\n",
        "    'naranja': 20\n",
        "}\n",
        "\n",
        "# Muestra el inventario inicial\n",
        "print(\"Inventario inicial:\", inventory)\n",
        "\n",
        "# Función para agregar stock\n",
        "def add_stock(product, quantity):\n",
        "\n",
        "    \"\"\"\n",
        "    Agrega un producto al inventario o actualiza la cantidad si ya existe.\n",
        "\n",
        "    Parámetros:\n",
        "    - product (str): Nombre del producto.\n",
        "    - quantity (int): Cantidad a agregar.\n",
        "    \"\"\"\n",
        "\t\t### AQUÍ VA TU CÓDIGO ###\n",
        "\n",
        "    if product in inventory:\n",
        "        inventory[product] += quantity\n",
        "        print(f\"Se agrega(n) {quantity} {product}(s). Nuevo inventario: {inventory[product]}\")\n",
        "    else:\n",
        "        inventory[product] = quantity\n",
        "        print(f\"Se agrega el nuevo producto {product} con {quantity} unidades. Nuevo inventario: {quantity}\")\n",
        "\n",
        "\n",
        "# Realiza operaciones de stock\n",
        "add_stock('manzana', 20)   # Agregar 20 manzanas\n",
        "add_stock('kiwi', 30)      # Agregar 30 kiwis"
      ],
      "metadata": {
        "colab": {
          "base_uri": "https://localhost:8080/"
        },
        "id": "ckVYIiARtL8Z",
        "outputId": "f6ac6f15-c519-48b2-d61d-645c388ca60b"
      },
      "execution_count": 43,
      "outputs": [
        {
          "output_type": "stream",
          "name": "stdout",
          "text": [
            "Inventario inicial: {'manzana': 50, 'plátano': 30, 'naranja': 20}\n",
            "Se agrega(n) 20 manzana(s). Nuevo inventario: 70 \n",
            "Se agrega el nuevo producto kiwi con 30 unidades. Nuevo inventario: 30\n",
            "Inventario final: {'manzana': 70, 'plátano': 30, 'naranja': 20, 'kiwi': 30}\n"
          ]
        }
      ]
    },
    {
      "cell_type": "code",
      "source": [
        "# Diccionario global que representa los niveles de inventario actuales\n",
        "inventory = {\n",
        "    'manzana': 50,\n",
        "    'plátano': 30,\n",
        "    'naranja': 20\n",
        "}\n",
        "\n",
        "# Muestra el inventario inicial\n",
        "print(\"Inventario inicial:\", inventory)\n",
        "\n",
        "\n",
        "# Función para quitar stock\n",
        "def remove_stock(product, quantity):\n",
        "\t### AQUÍ VA TU CÓDIGO ###\n",
        "  if product not in inventory:\n",
        "        print(f\"El producto {product} no existe en el inventario. No se puede quitar el stock.\")\n",
        "  elif inventory[product] < quantity:\n",
        "        print(f\"Stock insuficiente de {product}. No se puede(n) quitar {quantity} {product}(s).\")\n",
        "  else:\n",
        "        inventory[product] -= quantity\n",
        "        print(f\"Se quita(n) {quantity} {product}(s). Nuevo inventario: {inventory[product]}\")\n",
        "\n",
        "\n",
        "# Realiza operaciones de stock\n",
        "remove_stock('plátano', 10)    # Quitar 20 plátanos\n",
        "remove_stock('naranja', 25)    # Intentar quitar 25 naranjas\n",
        "remove_stock('uva', 50)        # Quitar 50 uvas"
      ],
      "metadata": {
        "colab": {
          "base_uri": "https://localhost:8080/"
        },
        "id": "XkZZ9Ouy0elF",
        "outputId": "2ecf9007-4318-4126-95e2-bc733b9d12ea"
      },
      "execution_count": 47,
      "outputs": [
        {
          "output_type": "stream",
          "name": "stdout",
          "text": [
            "Inventario inicial: {'manzana': 50, 'plátano': 30, 'naranja': 20}\n",
            "Se quita(n) 10 plátano(s). Nuevo inventario: 20\n",
            "Stock insuficiente de naranja. No se puede(n) quitar 25 naranja(s).\n",
            "El producto uva no existe en el inventario. No se puede quitar el stock.\n"
          ]
        }
      ]
    },
    {
      "cell_type": "markdown",
      "source": [
        "# Pruebas"
      ],
      "metadata": {
        "id": "AlIbSXbZbqRD"
      }
    },
    {
      "cell_type": "code",
      "source": [],
      "metadata": {
        "id": "e4KCVw7dh-Uu"
      },
      "execution_count": null,
      "outputs": []
    }
  ]
}