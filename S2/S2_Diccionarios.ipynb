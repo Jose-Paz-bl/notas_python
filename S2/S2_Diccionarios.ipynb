{
  "nbformat": 4,
  "nbformat_minor": 0,
  "metadata": {
    "colab": {
      "provenance": [],
      "toc_visible": true,
      "authorship_tag": "ABX9TyPNczgmHiYhnSrxVol4LUid",
      "include_colab_link": true
    },
    "kernelspec": {
      "name": "python3",
      "display_name": "Python 3"
    },
    "language_info": {
      "name": "python"
    }
  },
  "cells": [
    {
      "cell_type": "markdown",
      "metadata": {
        "id": "view-in-github",
        "colab_type": "text"
      },
      "source": [
        "<a href=\"https://colab.research.google.com/github/Jose-Paz-bl/notas_python/blob/main/S2_Diccionarios.ipynb\" target=\"_parent\"><img src=\"https://colab.research.google.com/assets/colab-badge.svg\" alt=\"Open In Colab\"/></a>"
      ]
    },
    {
      "cell_type": "code",
      "execution_count": null,
      "metadata": {
        "id": "y0EDn_Kk85zM"
      },
      "outputs": [],
      "source": []
    },
    {
      "cell_type": "markdown",
      "source": [
        "# Propiedades"
      ],
      "metadata": {
        "id": "7XrtkHXe9AS2"
      }
    },
    {
      "cell_type": "code",
      "source": [
        "# crea un diccionario\n",
        "movies = {\n",
        "    'Her': 2013,\n",
        "    'Big Eyes': 2014,\n",
        "    'Taxi Driver': 1976,\n",
        "    'The King of Comedy': 1982\n",
        "}\n",
        "\n",
        "print(movies)"
      ],
      "metadata": {
        "colab": {
          "base_uri": "https://localhost:8080/"
        },
        "id": "tsISW2G3DRif",
        "outputId": "6e2dec4c-0fb3-4c48-8e61-7b266011bfd7"
      },
      "execution_count": 1,
      "outputs": [
        {
          "output_type": "stream",
          "name": "stdout",
          "text": [
            "{'Her': 2013, 'Big Eyes': 2014, 'Taxi Driver': 1976, 'The King of Comedy': 1982}\n"
          ]
        }
      ]
    },
    {
      "cell_type": "code",
      "source": [
        "# Asigna los valores de la lista en un diccionario mediante un bucle for\n",
        "\n",
        "clients = [\n",
        "    [32456, \"Jack Wilson\", 32, 150000, \"Healthcare\"],\n",
        "    [34591, \"Nina Brown\", 45, 250000, \"Telecom\"],\n",
        "    [37512, \"Alex Smith\", 39, 210000, \"IT\"]\n",
        "]\n",
        "\n",
        "for client in clients:\n",
        "    client_info = {\n",
        "        \"id\": client[0],\n",
        "        \"client_name\": client[1],\n",
        "        \"age\": client[2],\n",
        "        \"yearly_income\": client[3],\n",
        "        \"work_field\": client[4]\n",
        "    }\n",
        "    print(client_info)"
      ],
      "metadata": {
        "colab": {
          "base_uri": "https://localhost:8080/"
        },
        "id": "BWnxuVxXDSDq",
        "outputId": "4df26d27-7009-455c-94d5-40ce049f7b97"
      },
      "execution_count": 3,
      "outputs": [
        {
          "output_type": "stream",
          "name": "stdout",
          "text": [
            "{'id': 32456, 'client_name': 'Jack Wilson', 'age': 32, 'yearly_income': 150000, 'work_field': 'Healthcare'}\n",
            "{'id': 34591, 'client_name': 'Nina Brown', 'age': 45, 'yearly_income': 250000, 'work_field': 'Telecom'}\n",
            "{'id': 37512, 'client_name': 'Alex Smith', 'age': 39, 'yearly_income': 210000, 'work_field': 'IT'}\n"
          ]
        }
      ]
    },
    {
      "cell_type": "markdown",
      "source": [
        "# Extraer valores de diccionarios"
      ],
      "metadata": {
        "id": "-x1PucgA9C1p"
      }
    },
    {
      "cell_type": "code",
      "source": [
        "# Extraer el precio de walmart\n",
        "\n",
        "financial_info = {\n",
        "    'American Express': 93.23,\n",
        "    'Boeing': 178.44,\n",
        "    'Coca-Cola': 45.15,\n",
        "    'Walt Disney': 119.34,\n",
        "    'Nike': 97.99,\n",
        "    'JPMorgan':96.27,\n",
        "    'Walmart': 130.68\n",
        "}\n",
        "\n",
        "walmart_price = financial_info.get(\"Walmart\")\n",
        "\n",
        "print(walmart_price)"
      ],
      "metadata": {
        "colab": {
          "base_uri": "https://localhost:8080/"
        },
        "id": "g7x_hAg7FUJS",
        "outputId": "bc36d994-e744-4c4b-9e57-1ce728b2ff13"
      },
      "execution_count": 5,
      "outputs": [
        {
          "output_type": "stream",
          "name": "stdout",
          "text": [
            "130.68\n"
          ]
        }
      ]
    },
    {
      "cell_type": "code",
      "source": [
        "financial_info = {\n",
        "    'American Express': 93.23,\n",
        "    'Boeing': 178.44,\n",
        "    'Coca-Cola': 45.15,\n",
        "    'Walt Disney': 119.34,\n",
        "    'Nike': 97.99,\n",
        "    'JPMorgan':96.27,\n",
        "    'Walmart': 130.68\n",
        "}\n",
        "\n",
        "nike_price = financial_info.get(\"Nike\", \"None\")\n",
        "print(nike_price)"
      ],
      "metadata": {
        "colab": {
          "base_uri": "https://localhost:8080/"
        },
        "id": "yBC8voErHiLl",
        "outputId": "be1b6e35-8634-46ee-e0b3-f40831677c32"
      },
      "execution_count": 7,
      "outputs": [
        {
          "output_type": "stream",
          "name": "stdout",
          "text": [
            "97.99\n"
          ]
        }
      ]
    },
    {
      "cell_type": "code",
      "source": [
        "# Recorrer los productos, calcular ingreso total sin descuento y mostrar el resultado total\n",
        "\n",
        "\n",
        "# Diccionario anidado con los productos en inventario\n",
        "products = {\n",
        "    'Product_A': {'price': 10, 'quantity': 2, 'discount': 0.1},\n",
        "    'Product_B': {'price': 20, 'quantity': 1, 'discount': 0.05},\n",
        "    'Product_C': {'price': 15, 'quantity': 5, 'discount': 0.2},\n",
        "}\n",
        "\n",
        "# Paso 1: Inicializa la variable para almacenar el total\n",
        "total_cost = 0\n",
        "\n",
        "# Paso 2: Recorre cada producto\n",
        "for product in products:\n",
        "    # Accede al precio y a la cantidad\n",
        "    price = products[product]['price']\n",
        "    quantity = products[product]['quantity']\n",
        "\n",
        "    # Paso 3: Calcula el ingreso por producto y acumúlalo\n",
        "    total_cost += (price * quantity)\n",
        "\n",
        "# Paso 4: Muestra el resultado final\n",
        "print(f\"Ingresos totales: ${total_cost}\")"
      ],
      "metadata": {
        "colab": {
          "base_uri": "https://localhost:8080/"
        },
        "id": "X1d8cKnmIhR7",
        "outputId": "c077f124-e8ae-487c-a263-15135403643b"
      },
      "execution_count": 13,
      "outputs": [
        {
          "output_type": "stream",
          "name": "stdout",
          "text": [
            "Ingresos totales: $115\n"
          ]
        }
      ]
    },
    {
      "cell_type": "code",
      "source": [
        "# Diccionario anidado que representa los productos\n",
        "products = {\n",
        "    'Product_A': {'price': 10, 'quantity': 2, 'discount': 0.1},\n",
        "    'Product_B': {'price': 20, 'quantity': 1, 'discount': 0.05},\n",
        "    'Product_C': {'price': 15, 'quantity': 5, 'discount': 0.2},\n",
        "}\n",
        "\n",
        "# Inicializa las variables\n",
        "total_cost = 0\n",
        "most_expensive_product = \"\"\n",
        "highest_price = 0\n",
        "\n",
        "# Calcula el costo total y encuentra el producto más caro\n",
        "for product in products:\n",
        "    # Accede a los detalles del producto\n",
        "    price = products[product]['price']\n",
        "    quantity = products[product]['quantity']\n",
        "\n",
        "    # Calcula el costo de cada producto\n",
        "    cost = price * quantity\n",
        "    total_cost += cost\n",
        "\n",
        "    # Comprueba si el producto actual es el más caro\n",
        "    #Codigo aquí\n",
        "    if price > highest_price:\n",
        "      highest_price = price\n",
        "      most_expensive_product = product\n",
        "\n",
        "# Muestra los resultados\n",
        "print(f\"Ingresos totales: ${total_cost}\")\n",
        "print(f\"Producto más caro: {most_expensive_product}\")"
      ],
      "metadata": {
        "colab": {
          "base_uri": "https://localhost:8080/"
        },
        "id": "9ua-_E_1J0Cu",
        "outputId": "ab324736-8886-4088-8e7a-0fe24abbe4cd"
      },
      "execution_count": 22,
      "outputs": [
        {
          "output_type": "stream",
          "name": "stdout",
          "text": [
            "Ingresos totales: $115\n",
            "Producto más caro: Product_B\n"
          ]
        }
      ]
    },
    {
      "cell_type": "code",
      "source": [
        "# Diccionario anidado que representa los productos\n",
        "# Reducir el precio del producto más caro en 10%.\n",
        "#Muestra ingresos totales y el nombre del producto más caro con su precio actualizado\n",
        "\n",
        "products = {\n",
        "    'Product_A': {'price': 10, 'quantity': 2, 'discount': 0.1},\n",
        "    'Product_B': {'price': 20, 'quantity': 1, 'discount': 0.05},\n",
        "    'Product_C': {'price': 15, 'quantity': 5, 'discount': 0.2},\n",
        "}\n",
        "\n",
        "# Inicializa las variables\n",
        "total_cost = 0\n",
        "most_expensive_product = \"\"\n",
        "highest_price = 0\n",
        "\n",
        "# Calcula el costo total y encuentra el producto más caro\n",
        "for product in products:\n",
        "    # Accede a los detalles del producto\n",
        "    price = products[product]['price']\n",
        "    quantity = products[product]['quantity']\n",
        "\n",
        "    # Calcula el costo de cada producto\n",
        "    cost = price * quantity\n",
        "    total_cost += cost\n",
        "\n",
        "    # Comprueba si el producto actual es el más caro\n",
        "    if price > highest_price:\n",
        "        highest_price = price\n",
        "        most_expensive_product = product\n",
        "\n",
        "# Actualiza el precio del producto más caro (ejemplo: reducirlo en un 10%)\n",
        " #completa el código ...\n",
        " # Esto merece una buena explicación porque resulta que se puede llamara a most_expensive_product aunque esté dentro del bucle\n",
        " # Esto hace que, al llamarla desde products, en realidad por detrás se está llamando a Product_B, que fue la llave almacenada en el bucle\n",
        "products[most_expensive_product]['price'] *= 0.9\n",
        "\n",
        "\n",
        "\n",
        "# Muestra los resultados\n",
        "print(f\"Ingresos totales: ${total_cost}\")\n",
        "print(f\"Producto más caro: {most_expensive_product} (Precio actualizado a ${products[most_expensive_product]['price']})\")"
      ],
      "metadata": {
        "colab": {
          "base_uri": "https://localhost:8080/"
        },
        "id": "PilwxHh3LN7r",
        "outputId": "a163b900-223d-45fd-ddbb-aaa87c421f18"
      },
      "execution_count": 43,
      "outputs": [
        {
          "output_type": "stream",
          "name": "stdout",
          "text": [
            "{'Product_A': {'price': 10, 'quantity': 2, 'discount': 0.1}, 'Product_B': {'price': 18.0, 'quantity': 1, 'discount': 0.05}, 'Product_C': {'price': 15, 'quantity': 5, 'discount': 0.2}}\n",
            "Ingresos totales: $115\n",
            "Producto más caro: Product_B (Precio actualizado a $18.0)\n"
          ]
        }
      ]
    },
    {
      "cell_type": "markdown",
      "source": [
        "![image.png](data:image/png;base64,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)"
      ],
      "metadata": {
        "id": "uJsmdDdNRWGs"
      }
    },
    {
      "cell_type": "markdown",
      "source": [
        "# Agregar y eliminar elementos"
      ],
      "metadata": {
        "id": "_xqnPO1v9FU3"
      }
    },
    {
      "cell_type": "code",
      "source": [
        "financial_info = {\n",
        "    'American Express': 93.23,\n",
        "    'Boeing': 178.44,\n",
        "    'Coca-Cola': 45.15,\n",
        "    'Walt Disney': 119.34,\n",
        "    'Nike': 97.99,\n",
        "    'JPMorgan':96.27,\n",
        "    'Walmart': 130.68\n",
        "}\n",
        "\n",
        "financial_info[\"Microsoft\"] = 208.35\n",
        "print(financial_info)"
      ],
      "metadata": {
        "colab": {
          "base_uri": "https://localhost:8080/"
        },
        "id": "9iNScAuUTQLR",
        "outputId": "2f64a069-0b34-48c9-accc-52e88c5d8ecf"
      },
      "execution_count": 44,
      "outputs": [
        {
          "output_type": "stream",
          "name": "stdout",
          "text": [
            "{'American Express': 93.23, 'Boeing': 178.44, 'Coca-Cola': 45.15, 'Walt Disney': 119.34, 'Nike': 97.99, 'JPMorgan': 96.27, 'Walmart': 130.68, 'Microsoft': 208.35}\n"
          ]
        }
      ]
    },
    {
      "cell_type": "code",
      "source": [
        "clients = [\n",
        "    [32456, \"Jack Wilson\", 31, 150000, \"Healthcare\"],\n",
        "    [34591, \"Nina Brown\", 43, 250000, \"Telecom\"],\n",
        "    [37512, \"John Smith\", 32, 210000, \"IT\"],\n",
        "    [39591, \"Brian Perez\", 49, 340000, \"Healthcare\"],\n",
        "    [45123, \"Brian Lee\", 48, 75000, \"Telecom\"],\n",
        "    [47635, \"David Chen\", 56, 180000, \"Telecom\"],\n",
        "    [49571, \"Brian Chen\", 52, 220000, \"IT\"],\n",
        "    [50391, \"David Rodriguez\", 31, 120000, \"IT\"],\n",
        "    [34556, \"Lucas Hernandez\", 37, 180000, \"Healthcare\"]\n",
        "]\n",
        "\n",
        "incomes_per_field = {} # aquí colocarás los ingresos para cada campo\n",
        "\n",
        "for client in clients:\n",
        "\t# primero, extrae el nombre del campo\n",
        "  field = client[4]\n",
        "\t# segundo, extrae los ingresos\n",
        "  income = client[3]\n",
        "\n",
        "\t# comprueba si el campo extraído NO está en el diccionario incomes_per_field\n",
        "\t# añade un nuevo campo como clave y establece una lista como valor\n",
        "\n",
        "  if incomes_per_field.get(field) == None:\n",
        "    incomes_per_field[field] = [income]\n",
        "\n",
        "    # si el campo extraído está en el diccionario incomes_per_field\n",
        "    # añade el nuevo ingreso a la lista de ingresos para un campo en particular\n",
        "  else:\n",
        "    incomes_per_field[field].append(income)\n",
        "\n",
        "\n",
        "\n",
        "\n",
        "# no modifiques el código de abajo, ya que imprime el resultado\n",
        "print(incomes_per_field)"
      ],
      "metadata": {
        "colab": {
          "base_uri": "https://localhost:8080/"
        },
        "id": "6JoINikITt2o",
        "outputId": "a4d38f1b-5608-4e81-f8a9-626f0d8da37d"
      },
      "execution_count": 73,
      "outputs": [
        {
          "output_type": "stream",
          "name": "stdout",
          "text": [
            "{'Healthcare': [150000, 340000, 180000], 'Telecom': [250000, 75000, 180000], 'IT': [210000, 220000, 120000]}\n"
          ]
        }
      ]
    }
  ]
}
