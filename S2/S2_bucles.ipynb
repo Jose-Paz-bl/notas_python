{
  "nbformat": 4,
  "nbformat_minor": 0,
  "metadata": {
    "colab": {
      "provenance": [],
      "toc_visible": true,
      "authorship_tag": "ABX9TyNFCd8W67YgmQMPZ6sxezPa",
      "include_colab_link": true
    },
    "kernelspec": {
      "name": "python3",
      "display_name": "Python 3"
    },
    "language_info": {
      "name": "python"
    }
  },
  "cells": [
    {
      "cell_type": "markdown",
      "metadata": {
        "id": "view-in-github",
        "colab_type": "text"
      },
      "source": [
        "<a href=\"https://colab.research.google.com/github/Jose-Paz-bl/notas_python/blob/main/S2_bucles.ipynb\" target=\"_parent\"><img src=\"https://colab.research.google.com/assets/colab-badge.svg\" alt=\"Open In Colab\"/></a>"
      ]
    },
    {
      "cell_type": "markdown",
      "source": [
        "# Introducción"
      ],
      "metadata": {
        "id": "Ao2zxFx7EIXp"
      }
    },
    {
      "cell_type": "markdown",
      "source": [],
      "metadata": {
        "id": "uOGT6xynJEsW"
      }
    },
    {
      "cell_type": "markdown",
      "source": [
        "# Operadores de asignación aumentada y funciones integradas"
      ],
      "metadata": {
        "id": "45X3mgR4ENxb"
      }
    },
    {
      "cell_type": "markdown",
      "source": [
        "# Bucles for"
      ],
      "metadata": {
        "id": "Gp5A14P_ESHT"
      }
    },
    {
      "cell_type": "markdown",
      "source": [
        "# Bucles en listas anidadas"
      ],
      "metadata": {
        "id": "1RZpGrDZEUhd"
      }
    },
    {
      "cell_type": "markdown",
      "source": [
        "# Bucles while"
      ],
      "metadata": {
        "id": "WEHyQi1OEWrN"
      }
    },
    {
      "cell_type": "markdown",
      "source": [
        "# Pruebas"
      ],
      "metadata": {
        "id": "WIo5ZLbnEZ32"
      }
    }
  ]
}
