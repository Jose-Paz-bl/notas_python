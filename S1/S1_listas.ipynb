{
  "nbformat": 4,
  "nbformat_minor": 0,
  "metadata": {
    "colab": {
      "provenance": [],
      "toc_visible": true,
      "authorship_tag": "ABX9TyPkdoQ2sSPRO3FDKT3m3LYC"
    },
    "kernelspec": {
      "name": "python3",
      "display_name": "Python 3"
    },
    "language_info": {
      "name": "python"
    }
  },
  "cells": [
    {
      "cell_type": "markdown",
      "source": [
        "# Introduccion"
      ],
      "metadata": {
        "id": "5udPGnwkm5Eh"
      }
    },
    {
      "cell_type": "markdown",
      "source": [
        "Las listas son de las estructuras más importantes para trabajar con datos y permiten almacenar colección de valores en una estructura de datos."
      ],
      "metadata": {
        "id": "_PmYJhT4m4NZ"
      }
    },
    {
      "cell_type": "code",
      "source": [
        "title = 'Fight Club'\n",
        "year = 1999\n",
        "genre = ['thriller', 'drama', 'crime']\n",
        "duration = 139\n",
        "rating = 8.644\n",
        "\n",
        "# añade elementos a la lista movie_info:\n",
        "movie_info = [title, year, genre, duration, rating]\n",
        "# muestra la lista\n",
        "print(movie_info)"
      ],
      "metadata": {
        "colab": {
          "base_uri": "https://localhost:8080/"
        },
        "id": "7AOCdSS0rEyF",
        "outputId": "9c2aefe7-dde8-4f6f-c0e2-76a7390d0221"
      },
      "execution_count": 3,
      "outputs": [
        {
          "output_type": "stream",
          "name": "stdout",
          "text": [
            "['Fight Club', 1999, ['thriller', 'drama', 'crime'], 139, 8.644]\n"
          ]
        }
      ]
    },
    {
      "cell_type": "code",
      "source": [
        "first_row = ['The Shawshank Redemption', 'USA', 1994, 'drama', 142, 9.111] # continua añadiendo valores\n",
        "# muestra la lista\n",
        "print(first_row)"
      ],
      "metadata": {
        "colab": {
          "base_uri": "https://localhost:8080/"
        },
        "id": "BMvAOjgers8i",
        "outputId": "19054040-bcb5-4beb-d905-ed4c0e58ec91"
      },
      "execution_count": 5,
      "outputs": [
        {
          "output_type": "stream",
          "name": "stdout",
          "text": [
            "['The Shawshank Redemption', 'USA', 1994, 'drama', 142, 9.111]\n"
          ]
        }
      ]
    },
    {
      "cell_type": "markdown",
      "source": [
        "# Indices y slices"
      ],
      "metadata": {
        "id": "z9Jw4vGAsHqk"
      }
    },
    {
      "cell_type": "markdown",
      "source": [
        "Los índices refieren a la numeración propia de la lista y slicing es el proceso por el cual se seleccionan o seccionan ciertos valores de las listas."
      ],
      "metadata": {
        "id": "PTftlq12vfLj"
      }
    },
    {
      "cell_type": "code",
      "source": [
        "movies_info = ['The Shawshank Redemption', 'USA', 1994, 'drama', 142, 9.111]\n",
        "# segmenta los elementos del índice 1 al 3:\n",
        "print(movies_info[1:4])\n",
        "# segmentar los elementos del índice 0 al 2:\n",
        "print(movies_info[0:3])\n",
        "# segmentar los elementos del índice 2 al último:\n",
        "print(movies_info[2:])"
      ],
      "metadata": {
        "colab": {
          "base_uri": "https://localhost:8080/"
        },
        "id": "0tHKF7UCzCwh",
        "outputId": "afda67c9-c654-4dc1-e75b-f1037dc66b33"
      },
      "execution_count": 8,
      "outputs": [
        {
          "output_type": "stream",
          "name": "stdout",
          "text": [
            "['USA', 1994, 'drama']\n",
            "['The Shawshank Redemption', 'USA', 1994]\n",
            "[1994, 'drama', 142, 9.111]\n"
          ]
        }
      ]
    },
    {
      "cell_type": "code",
      "source": [
        "#La información para cada nuevo cliente se proporciona en este orden: ID, nombre, edad, ingreso neto anual y ocupación. Muestra el nombre en una línea y después muestra la edad en otra.\n",
        "\n",
        "#La salida esperada es esta:\n",
        "#Jack Wilson\n",
        "#32\n",
        "\n",
        "client_info = [32456, 'Jack Wilson', 32, 150000, 'Healthcare']\n",
        "# Agrega tu código aquí\n",
        "print(client_info[1])\n",
        "print(client_info[2])"
      ],
      "metadata": {
        "colab": {
          "base_uri": "https://localhost:8080/"
        },
        "id": "JYLc3oI3zdJN",
        "outputId": "7d2a562a-ab9f-410f-948a-bdf031853cfd"
      },
      "execution_count": 9,
      "outputs": [
        {
          "output_type": "stream",
          "name": "stdout",
          "text": [
            "Jack Wilson\n",
            "32\n"
          ]
        }
      ]
    },
    {
      "cell_type": "code",
      "source": [
        "#En el precódigo, encontrarás la variable ages que contiene las edades de todos los clientes actuales. Nuestro objetivo es enumerar todos los elementos, excepto el primero y el último.\n",
        "#La salida esperada es esta:\n",
        "#[45, 39, 29, 25]\n",
        "\n",
        "ages = [32, 45, 39, 29, 25, 32]\n",
        "\n",
        "# escribe tu código aquí\n",
        "print(ages[1:5])"
      ],
      "metadata": {
        "colab": {
          "base_uri": "https://localhost:8080/"
        },
        "id": "UAA-IIcm0As_",
        "outputId": "8b2d9e30-80af-45b9-856c-b042e15c874b"
      },
      "execution_count": 11,
      "outputs": [
        {
          "output_type": "stream",
          "name": "stdout",
          "text": [
            "[45, 39, 29, 25]\n"
          ]
        }
      ]
    },
    {
      "cell_type": "markdown",
      "source": [
        "# Modificación de listas"
      ],
      "metadata": {
        "id": "C3Th7fyGsJuk"
      }
    },
    {
      "cell_type": "markdown",
      "source": [
        "Un punto importante es que los strings no se pueden modificar, mientras que las listas sí.\n",
        "\n",
        "Usaremos\n",
        "\n",
        "**append()**: agregar un elemento al final y no puede concatenar más\n",
        "\n",
        "**extend():** agregar varios elementos al\n",
        "\n",
        "**insert():** toma dos argumentos, el indice donde se insertara el valor y el valor.\n",
        "\n",
        "**pop():** elimina un elemento del final de la lista"
      ],
      "metadata": {
        "id": "m39jsZ0c0zHV"
      }
    },
    {
      "cell_type": "code",
      "source": [
        "shawshank_movie = ['The Shawshank Redemption', 'USA', 1994, 'drama', 142, 9.111]\n",
        "# escribe tu código aquí para modificar la lista añadiendo el nombre del director \"Frank Darabont\"\n",
        "shawshank_movie.append(\"Frank Darabont\")\n",
        "print(shawshank_movie)"
      ],
      "metadata": {
        "colab": {
          "base_uri": "https://localhost:8080/"
        },
        "id": "XB86wOGV2MTN",
        "outputId": "49775f19-536d-4785-d657-b66b905148fb"
      },
      "execution_count": 12,
      "outputs": [
        {
          "output_type": "stream",
          "name": "stdout",
          "text": [
            "['The Shawshank Redemption', 'USA', 1994, 'drama', 142, 9.111, 'Frank Darabont']\n"
          ]
        }
      ]
    },
    {
      "cell_type": "code",
      "source": [
        "godfather_movie = ['The Godfather', 'USA', 1972]\n",
        "# añade los nombres del director \"Francis Ford Coppola\"y del compositor \"Nino Rota\" al final de la lista\n",
        "godfather_movie.extend([\"Francis Ford Coppola\", \"Nino Rota\"])\n",
        "print(godfather_movie)"
      ],
      "metadata": {
        "colab": {
          "base_uri": "https://localhost:8080/"
        },
        "id": "MWvPjnJ-2pHZ",
        "outputId": "fe72effb-a506-489d-9828-523db7d294f0"
      },
      "execution_count": 14,
      "outputs": [
        {
          "output_type": "stream",
          "name": "stdout",
          "text": [
            "['The Godfather', 'USA', 1972, 'Francis Ford Coppola', 'Nito Rota']\n"
          ]
        }
      ]
    },
    {
      "cell_type": "code",
      "source": [
        "titanic_movie = ['Titanic', 'USA', 1997, 'James Camron', 'drama', 194]\n",
        "# elimina el nombre del director de la lista\n",
        "titanic_movie.pop(3)\n",
        "#.pop permite un indice para eliminar\n",
        "print(titanic_movie)"
      ],
      "metadata": {
        "colab": {
          "base_uri": "https://localhost:8080/"
        },
        "id": "ikO6kFVk2_sU",
        "outputId": "6d630cdd-d9bf-4001-eab0-c200268f8278"
      },
      "execution_count": 16,
      "outputs": [
        {
          "output_type": "stream",
          "name": "stdout",
          "text": [
            "['Titanic', 'USA', 1997, 'drama', 194]\n"
          ]
        }
      ]
    },
    {
      "cell_type": "code",
      "source": [
        "titanic_movie = ['Titanic', 'USA', 1997, 'drama', 194]\n",
        "# añade el nombre del director antes del género de la película:\n",
        "titanic_movie.insert(3,\"James Cameron\")\n",
        "print(titanic_movie)"
      ],
      "metadata": {
        "colab": {
          "base_uri": "https://localhost:8080/"
        },
        "id": "qX7CX48i3dJh",
        "outputId": "ac114039-b388-4c73-bdb5-423e58ba1c20"
      },
      "execution_count": 17,
      "outputs": [
        {
          "output_type": "stream",
          "name": "stdout",
          "text": [
            "['Titanic', 'USA', 1997, 'James Cameron', 'drama', 194]\n"
          ]
        }
      ]
    },
    {
      "cell_type": "markdown",
      "source": [
        "![image.png](data:image/png;base64,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)"
      ],
      "metadata": {
        "id": "42BPf0r73r3P"
      }
    },
    {
      "cell_type": "markdown",
      "source": [
        "# Ordenar listas"
      ],
      "metadata": {
        "id": "7-VJ4ShVsK-Q"
      }
    },
    {
      "cell_type": "markdown",
      "source": [
        "Usaremos\n",
        "\n",
        "**sort():** método de lista Modifica la lista original y ordena de mayor a menor. Si se quiere modificar es necesario agregar reverse=True\n",
        "\n",
        "**sorted():** genera una lista mediante na función"
      ],
      "metadata": {
        "id": "GX8FhWqpNbcN"
      }
    },
    {
      "cell_type": "code",
      "source": [
        "movies = ['The Good, the Bad and the Ugly', 'Pulp Fiction', 'Fight Club', 'Harakiri']\n",
        "\n",
        "# ordena la lista aquí\n",
        "movies.sort()\n",
        "# muestra la lista aquí\n",
        "print(movies)"
      ],
      "metadata": {
        "colab": {
          "base_uri": "https://localhost:8080/"
        },
        "id": "XGtC97lPOzfx",
        "outputId": "ee0936c8-f38e-4b8e-e656-5b6924dc36cc"
      },
      "execution_count": 2,
      "outputs": [
        {
          "output_type": "stream",
          "name": "stdout",
          "text": [
            "['Fight Club', 'Harakiri', 'Pulp Fiction', 'The Good, the Bad and the Ugly']\n"
          ]
        }
      ]
    },
    {
      "cell_type": "code",
      "source": [
        "movies_duration = [142, 175, 152, 195, 201, 154, 178, 139]\n",
        "# ordena las películas aquí en orden descendente\n",
        "movies_duration.sort(reverse=True)\n",
        "# muestra el resultado aquí\n",
        "print(movies_duration)"
      ],
      "metadata": {
        "colab": {
          "base_uri": "https://localhost:8080/"
        },
        "id": "GpmcSXxBO_pZ",
        "outputId": "3b7c5542-01be-48a6-aced-435cc0b6540f"
      },
      "execution_count": 6,
      "outputs": [
        {
          "output_type": "stream",
          "name": "stdout",
          "text": [
            "[201, 195, 178, 175, 154, 152, 142, 139]\n"
          ]
        }
      ]
    },
    {
      "cell_type": "code",
      "source": [
        "movies_duration = [142, 175, 152, 195, 201, 154, 178, 139]\n",
        "\n",
        "# ordena la lista movies_duration utilizando sorted()\n",
        "movies_duration_sorted = sorted(movies_duration, reverse=True)\n",
        "\n",
        "# muestra la lista resultante aquí\n",
        "print(movies_duration_sorted)"
      ],
      "metadata": {
        "colab": {
          "base_uri": "https://localhost:8080/"
        },
        "id": "CLNd99BTPSdW",
        "outputId": "cf372a11-8231-4e9f-c5fa-4611f3ed2bf9"
      },
      "execution_count": 10,
      "outputs": [
        {
          "output_type": "stream",
          "name": "stdout",
          "text": [
            "[201, 195, 178, 175, 154, 152, 142, 139]\n"
          ]
        }
      ]
    },
    {
      "cell_type": "code",
      "source": [
        "#La información sobre Brian Pérez ha sido actualizada. Además, otros dos clientes se han unido recientemente al servicio. Ahora el banco quiere analizar a los clientes para determinar la distribución de edades de mayor a menor.\n",
        "#En el precódigo, encontrarás la variable ages que contiene las edades de todos los clientes actuales. Nuestro objetivo es ordenar esta lista en orden descendente y mostrarla. Para ordenar, utiliza el método sort().\n",
        "\n",
        "#La salida esperada es esta:\n",
        "#[45, 39, 32, 32, 29, 25]\n",
        "\n",
        "ages = [32, 45, 39, 29, 25, 32]\n",
        "\n",
        "# escribe tu código aquí\n",
        "ages.sort(reverse=True)\n",
        "\n",
        "print(ages)\n"
      ],
      "metadata": {
        "colab": {
          "base_uri": "https://localhost:8080/"
        },
        "id": "Qj65XYICQGlR",
        "outputId": "756f9d3c-7367-4e66-b7de-99ed773a64ac"
      },
      "execution_count": 11,
      "outputs": [
        {
          "output_type": "stream",
          "name": "stdout",
          "text": [
            "[45, 39, 32, 32, 29, 25]\n"
          ]
        }
      ]
    },
    {
      "cell_type": "markdown",
      "source": [
        "# Listas anidadas"
      ],
      "metadata": {
        "id": "77w8ss0CsN5H"
      }
    },
    {
      "cell_type": "markdown",
      "source": [
        "Las lista anidadas son básicamente listas dentro de listas que tienen la estructura similar a una tabla"
      ],
      "metadata": {
        "id": "vZRXUzenQkt7"
      }
    },
    {
      "cell_type": "code",
      "source": [
        "#Accede a la lista movies_info y muestra en pantalla:\n",
        "\n",
        "#El país de producción de Good Will Hunting.\n",
        "#El año de estreno de Pulp Fiction.\n",
        "#La valoración de The Godfather (8.730).\n",
        "#Recupera los elementos por sus índices y muestra cada uno de ellos en una nueva línea.\n",
        "\n",
        "#La salida esperada es esta:\n",
        "\n",
        "#USA\n",
        "#1994\n",
        "#8.73\n",
        "\n",
        "movies_info = [\n",
        "    ['The Shawshank Redemption', 'USA', 1994, 'drama', 142, 9.111],\n",
        "    ['The Godfather', 'USA', 1972, 'drama, crime', 175, 8.730],\n",
        "    ['The Dark Knight', 'USA', 2008, 'fantasy, action, thriller', 152, 8.499],\n",
        "    [\"Schindler's List\", 'USA', 1993, 'drama', 195, 8.818],\n",
        "    ['The Lord of the Rings: The Return of the King', 'New Zealand', 2003, 'fantasy, adventure, drama', 201, 8.625],\n",
        "    ['Pulp Fiction', 'USA', 1994, 'thriller, comedy, crime', 154, 8.619],\n",
        "    ['The Good, the Bad and the Ugly', 'Italy', 1966, 'western', 178, 8.521],\n",
        "    ['Fight Club', 'USA', 1999, 'thriller, drama, crime', 139, 8.644],\n",
        "    ['Harakiri', 'Japan', 1962, 'drama, action, history', 133, 8.106],\n",
        "    ['Good Will Hunting', 'USA', 1997, 'drama, romance', 126, 8.077]\n",
        "]\n",
        "\n",
        "# muestra aquí el país de producción de *Good Will Hunting*\n",
        "print(movies_info[-1][1])\n",
        "# muestra aquí el año de estreno de Pulp Fiction\n",
        "print(movies_info[-5][2])\n",
        "# muestra aquí la valoración de The Godfather\n",
        "print(movies_info[1][-1])"
      ],
      "metadata": {
        "colab": {
          "base_uri": "https://localhost:8080/"
        },
        "id": "6WtU4CnuRtbt",
        "outputId": "c01578c1-2264-4aee-eb41-cf0dce3aed92"
      },
      "execution_count": 12,
      "outputs": [
        {
          "output_type": "stream",
          "name": "stdout",
          "text": [
            "USA\n",
            "1994\n",
            "8.73\n"
          ]
        }
      ]
    },
    {
      "cell_type": "code",
      "source": [
        "# Hay una nueva clienta, Nina Brown. Se quiere saber su ingreso neto anual y asignarlo a la variable client_income\n",
        "\n",
        "\n",
        "clients = [\n",
        "    [32456, 'Jack Wilson', 32, 150000, 'Personal sanitario'],\n",
        "    [34591, 'Nina Brown', 45, 250000, 'Telecomunicaciones']\n",
        "]\n",
        "\n",
        "client_income = clients[1][3]\n",
        "print(client_income)"
      ],
      "metadata": {
        "colab": {
          "base_uri": "https://localhost:8080/"
        },
        "id": "pwyODw0OSdqZ",
        "outputId": "ea726671-5527-4fa8-b8bc-b5be90c97e45"
      },
      "execution_count": 13,
      "outputs": [
        {
          "output_type": "stream",
          "name": "stdout",
          "text": [
            "250000\n"
          ]
        }
      ]
    },
    {
      "cell_type": "code",
      "source": [
        "# Se requiere calcular la edad promedio de los clientes\n",
        "\n",
        "clients = [\n",
        "    [32456, 'Jack Wilson', 32, 150000, \"Personal sanitario\"],\n",
        "    [34591, 'Nina Brown', 45, 250000, \"Telecomunicaciones\"],\n",
        "    [37512, 'Alex Smith', 39, 210000, \"IT\"],\n",
        "    [39591, \"Brian Perez\", 29, 340000, \"Transporte\"],\n",
        "]\n",
        "\n",
        "avg_age = (clients[0][2] + clients[1][2] + clients[2][2] + clients[3][2]) / len(clients)\n",
        "\n",
        "#Una solución más avanzada es usar un bucle para recorrer exacamente el elemento y hacer operaciones con ese elemento por lista\n",
        "avg_age2= avg_age = sum(client[2] for client in clients) / len(clients)\n",
        "\n",
        "print(avg_age)\n",
        "print(avg_age2)"
      ],
      "metadata": {
        "colab": {
          "base_uri": "https://localhost:8080/"
        },
        "id": "Vr_HzYcfS9dA",
        "outputId": "9f8f8932-4e39-479f-aa6f-60eee22b66d8"
      },
      "execution_count": 20,
      "outputs": [
        {
          "output_type": "stream",
          "name": "stdout",
          "text": [
            "36.25\n",
            "36.25\n"
          ]
        }
      ]
    },
    {
      "cell_type": "markdown",
      "source": [
        "# Procesamiento de strings"
      ],
      "metadata": {
        "id": "myiUUTs-sOdO"
      }
    },
    {
      "cell_type": "markdown",
      "source": [
        "Convertir listas en elementos y elementos en listas puede ayudar a procesar mejor los datos y realizar cambios sobre ellos. Revisaremos\n",
        "\n",
        "**split()**: convierte una lista en elementos\n",
        "\n",
        "**join()**: convierte elementos en lista"
      ],
      "metadata": {
        "id": "-oMNbRIlU9jo"
      }
    },
    {
      "cell_type": "code",
      "source": [
        "#Divide el string phrase en una lista de nombres de personajes Disney. Guarda el resultado en la variable words y muéstralo en pantalla.\n",
        "\n",
        "#['Aladdin', 'Esmeralda', 'Hercules', 'Mulan']\n",
        "\n",
        "\n",
        "phrase = 'Aladdin#Esmeralda#Hercules#Mulan'\n",
        "words = phrase.split(\"#\")\n",
        "print(words)"
      ],
      "metadata": {
        "colab": {
          "base_uri": "https://localhost:8080/"
        },
        "id": "R8yOjpbTU9RF",
        "outputId": "01875c4c-cfd3-4c27-b9c5-34bc76f13d81"
      },
      "execution_count": 21,
      "outputs": [
        {
          "output_type": "stream",
          "name": "stdout",
          "text": [
            "['Aladdin', 'Esmeralda', 'Hercules', 'Mulan']\n"
          ]
        }
      ]
    },
    {
      "cell_type": "code",
      "source": [
        "#Une los superhéroes de la lista heroes en un string utilizando el separador >. Asigna el resultado a la variable comparison y muéstralo en pantalla.\n",
        "\n",
        "#Spiderman>Batman>Superman>Iron Man\n",
        "\n",
        "\n",
        "heroes = ['Spiderman', 'Batman', 'Superman', 'Iron Man']\n",
        "comparison = \">\".join(heroes)\n",
        "print(comparison)"
      ],
      "metadata": {
        "colab": {
          "base_uri": "https://localhost:8080/"
        },
        "id": "5DJBRMiFWd-P",
        "outputId": "34c6da7a-7a28-459b-8d01-69efa2d3a2d1"
      },
      "execution_count": 23,
      "outputs": [
        {
          "output_type": "stream",
          "name": "stdout",
          "text": [
            "Spiderman>Batman>Superman>Iron Man\n"
          ]
        }
      ]
    },
    {
      "cell_type": "code",
      "source": [
        "#El departamento de seguridad del banco nos ha solicitado una lista con los nombres de nuestros primeros clientes. Actualmente, esta información está disponible como un string en el que todos los nombres están separados por comas y que se almacena como la variable names.\n",
        "\n",
        "#Para ayudar, vamos a convertir el string en una lista llamada names_split, donde cada elemento representa el nombre de un cliente. No olvides mostrar la lista resultante.\n",
        "\n",
        "#Salida esperada\n",
        "#['Jack Wilson', 'Nina Brown', 'Alex Smith', 'Brian Perez', 'David Martinez', 'John Kim']\n",
        "\n",
        "names = 'Jack Wilson,Nina Brown,Alex Smith,Brian Perez,David Martinez,John Kim'\n",
        "\n",
        "names_split = names.split(\",\")\n",
        "\n",
        "print(names_split)"
      ],
      "metadata": {
        "colab": {
          "base_uri": "https://localhost:8080/"
        },
        "id": "YZRVZ1JzWxfE",
        "outputId": "a54a2ccc-3dbc-4310-8924-4f5cb86c5ec4"
      },
      "execution_count": 24,
      "outputs": [
        {
          "output_type": "stream",
          "name": "stdout",
          "text": [
            "['Jack Wilson', 'Nina Brown', 'Alex Smith', 'Brian Perez', 'David Martinez', 'John Kim']\n"
          ]
        }
      ]
    },
    {
      "cell_type": "markdown",
      "source": [
        "# Pruebas"
      ],
      "metadata": {
        "id": "97bUX687sOz9"
      }
    },
    {
      "cell_type": "code",
      "source": [
        "movie_info = ['Fight Club', 1999, ['thriller', 'drama', 'crime'], 139, 8.644]\n",
        "\n",
        "print(movie_info[5])"
      ],
      "metadata": {
        "colab": {
          "base_uri": "https://localhost:8080/",
          "height": 200
        },
        "id": "GUESsaQ8Y2av",
        "outputId": "a2055953-0289-41e7-a30b-8ff20788747c"
      },
      "execution_count": 26,
      "outputs": [
        {
          "output_type": "error",
          "ename": "IndexError",
          "evalue": "list index out of range",
          "traceback": [
            "\u001b[0;31m---------------------------------------------------------------------------\u001b[0m",
            "\u001b[0;31mIndexError\u001b[0m                                Traceback (most recent call last)",
            "\u001b[0;32m/tmp/ipython-input-3833650939.py\u001b[0m in \u001b[0;36m<cell line: 0>\u001b[0;34m()\u001b[0m\n\u001b[1;32m      1\u001b[0m \u001b[0mmovie_info\u001b[0m \u001b[0;34m=\u001b[0m \u001b[0;34m[\u001b[0m\u001b[0;34m'Fight Club'\u001b[0m\u001b[0;34m,\u001b[0m \u001b[0;36m1999\u001b[0m\u001b[0;34m,\u001b[0m \u001b[0;34m[\u001b[0m\u001b[0;34m'thriller'\u001b[0m\u001b[0;34m,\u001b[0m \u001b[0;34m'drama'\u001b[0m\u001b[0;34m,\u001b[0m \u001b[0;34m'crime'\u001b[0m\u001b[0;34m]\u001b[0m\u001b[0;34m,\u001b[0m \u001b[0;36m139\u001b[0m\u001b[0;34m,\u001b[0m \u001b[0;36m8.644\u001b[0m\u001b[0;34m]\u001b[0m\u001b[0;34m\u001b[0m\u001b[0;34m\u001b[0m\u001b[0m\n\u001b[1;32m      2\u001b[0m \u001b[0;34m\u001b[0m\u001b[0m\n\u001b[0;32m----> 3\u001b[0;31m \u001b[0mprint\u001b[0m\u001b[0;34m(\u001b[0m\u001b[0mmovie_info\u001b[0m\u001b[0;34m[\u001b[0m\u001b[0;36m5\u001b[0m\u001b[0;34m]\u001b[0m\u001b[0;34m)\u001b[0m\u001b[0;34m\u001b[0m\u001b[0;34m\u001b[0m\u001b[0m\n\u001b[0m",
            "\u001b[0;31mIndexError\u001b[0m: list index out of range"
          ]
        }
      ]
    }
  ]
}
