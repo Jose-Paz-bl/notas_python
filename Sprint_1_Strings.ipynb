{
  "nbformat": 4,
  "nbformat_minor": 0,
  "metadata": {
    "colab": {
      "provenance": [],
      "toc_visible": true,
      "authorship_tag": "ABX9TyMS9OoAOYiBIG1XlJ93wW8G",
      "include_colab_link": true
    },
    "kernelspec": {
      "name": "python3",
      "display_name": "Python 3"
    },
    "language_info": {
      "name": "python"
    }
  },
  "cells": [
    {
      "cell_type": "markdown",
      "metadata": {
        "id": "view-in-github",
        "colab_type": "text"
      },
      "source": [
        "<a href=\"https://colab.research.google.com/github/Jose-Paz-bl/notas_python/blob/main/Sprint_1_Strings.ipynb\" target=\"_parent\"><img src=\"https://colab.research.google.com/assets/colab-badge.svg\" alt=\"Open In Colab\"/></a>"
      ]
    },
    {
      "cell_type": "markdown",
      "source": [
        "# Introduccion"
      ],
      "metadata": {
        "id": "7AcL9lWUZFL1"
      }
    },
    {
      "cell_type": "markdown",
      "source": [
        "Ejemplo de nota:\n",
        "\n",
        "1.   Elemento de lista\n",
        "2.   Elemento de lista\n",
        "\n"
      ],
      "metadata": {
        "id": "HxMXkkX1qe_H"
      }
    },
    {
      "cell_type": "code",
      "source": [
        "print(\"Hola Mundo\")"
      ],
      "metadata": {
        "colab": {
          "base_uri": "https://localhost:8080/"
        },
        "id": "MsaxuHdIpaLA",
        "outputId": "312b23d6-8a6a-4531-ea78-fd69ea9731e8"
      },
      "execution_count": null,
      "outputs": [
        {
          "output_type": "stream",
          "name": "stdout",
          "text": [
            "Hola Mundo\n"
          ]
        }
      ]
    },
    {
      "cell_type": "markdown",
      "source": [],
      "metadata": {
        "id": "x4QQ9fxmY9MR"
      }
    },
    {
      "cell_type": "markdown",
      "source": [
        "# Slices"
      ],
      "metadata": {
        "id": "EqawG51cY-oi"
      }
    },
    {
      "cell_type": "markdown",
      "source": [
        "Ayudan a extraer caracteres específicos de un string para crear substrings"
      ],
      "metadata": {
        "id": "kSVRkgC5ZCqv"
      }
    },
    {
      "cell_type": "code",
      "source": [
        "#Obtén el substring de los primeros cuatro caracteres de la variable spell y muéstralo.\n",
        "\n",
        "spell = 'abracadabra'\n",
        "\n",
        "print(spell[0:4])\n",
        "\n",
        "#Usemos el mismo ejemplo anterior, pero ahora intentemos obtener el siguiente substring: acada\n",
        "\n",
        "print(spell[3:8])"
      ],
      "metadata": {
        "colab": {
          "base_uri": "https://localhost:8080/"
        },
        "id": "bKxxWURoZcgM",
        "outputId": "429ebb69-0aed-4bd2-c5ce-ed7a08a85dc2"
      },
      "execution_count": null,
      "outputs": [
        {
          "output_type": "stream",
          "name": "stdout",
          "text": [
            "abra\n",
            "acada\n"
          ]
        }
      ]
    },
    {
      "cell_type": "code",
      "source": [
        "#Ejercicio 1\n",
        "\n",
        "#Intentemos algo diferente. Vamos a usar la siguiente frase para extraer partes específicas de este texto:\n",
        "#Londres es la capital del Reino Unido\n",
        "#Para hacerlo, asigna el texto anterior a la variable phrase (frase).\n",
        "#Segmenta la variable, utilizando únicamente la segmentación negativa, y devuelve el siguiente texto:\n",
        "\n",
        "#La salida esperada es esta: Reino Unido\n",
        "\n",
        "phrase = \"Londres es la capital del Reino Unido\"\n",
        "print(phrase[-11:])\n",
        "\n",
        "\n",
        "#Ejercicio 2\n",
        "\n",
        "#Al igual que en el ejercicio anterior, utilizaremos la misma frase para extraer una parte distinta del texto.\n",
        "#Londres es la capital del Reino Unido\n",
        "#Asigna el texto anterior a la variable phrase. Muestra la palabra capital utilizando la segmentación negativa.\n",
        "\n",
        "#La salida esperada es esta: capital\n",
        "\n",
        "print(phrase[-23:-16])"
      ],
      "metadata": {
        "colab": {
          "base_uri": "https://localhost:8080/"
        },
        "id": "X2HQ7hQjbQph",
        "outputId": "cf2008a3-d498-441f-98b2-db6a26a142e1"
      },
      "execution_count": null,
      "outputs": [
        {
          "output_type": "stream",
          "name": "stdout",
          "text": [
            "Reino Unido\n",
            "capital\n"
          ]
        }
      ]
    },
    {
      "cell_type": "markdown",
      "source": [
        "# Strings formateados (f-strings)"
      ],
      "metadata": {
        "id": "9keuu1INcrA8"
      }
    },
    {
      "cell_type": "markdown",
      "source": [
        "Bueno, aquí lo tienes: formateo de strings."
      ],
      "metadata": {
        "id": "jCBBS4Akc3R7"
      }
    },
    {
      "cell_type": "code",
      "source": [
        "#Observa que la variable age almacena 25 como valor, pero en el string anterior\n",
        "#que te pedimos mostrar se lee 20. Usa una operación aritmética dentro del F-string para calcular la edad.\n",
        "\n",
        "#La salida esperada es esta: Hace cinco años, Olivia tenía 20 años\n",
        "\n",
        "name = 'Olivia'\n",
        "age = 25\n",
        "\n",
        "# completa el siguiente código\n",
        "#Aquí se colocó \"str\" para que todo fuera estrictamente un String\n",
        "message = f\"Hace cinco años, {name} tenía {str(age - 5)} años\"\n",
        "\n",
        "print(message)\n",
        "\n",
        "#Ahora practiquemos utilizando el método format() para mostrar el siguiente mensaje: Olivia tiene 25 años\n",
        "\n",
        "name = 'Olivia'\n",
        "age = 25\n",
        "\n",
        "# crea un string formateado más adelante\n",
        "message = \"{n} tiene {a} años\".format(n=name,a=age)\n",
        "print(message)"
      ],
      "metadata": {
        "colab": {
          "base_uri": "https://localhost:8080/"
        },
        "id": "565VqdjIeBf8",
        "outputId": "bb1406e8-b902-46a1-db15-7d33b2a3889f"
      },
      "execution_count": null,
      "outputs": [
        {
          "output_type": "stream",
          "name": "stdout",
          "text": [
            "Hace cinco años, Olivia tenía 20 años\n",
            "Olivia tiene 25 años\n"
          ]
        }
      ]
    },
    {
      "cell_type": "markdown",
      "source": [
        "En la siguiente tarea tenemos como objetivo el implementar algunas operaciones de división que\n",
        "reciben dos variables, numerator y denominator. Tu tarea es completar esta implementación,\n",
        "incluyendo la lógica try-except que manejará los diferentes tipos de errores.\n",
        "\n",
        "Para ello, debes completar los siguientes pasos:\n",
        "\n",
        "1. Efectúa la operación de división dentro de los bloques\n",
        "try-except utilizando las variables numerator y denominator para ello.\n",
        "*   a. Para cada bloque try-except, siempre que se ejecute correctamente, sin dar un error, genera el siguiente mensaje, utilizando el método print() combinado con F-string:\n",
        "**El resultado de dividir 100 entre 10 es 10.0**\n",
        "\n",
        "2. Cuando ocurre ZeroDivisionError, despliega el siguiente mensaje utilizando el método print() combinado con F-string:\n",
        "**Error: No se puede dividir 100 entre 0.**\n",
        "\n",
        "3. Haz otro bloque try-except. Esta vez cuando ocurra TypeError, despliega el siguiente mensaje:\n",
        "**Error: Tanto el numerador como el denominador deben ser números.**\n",
        "\n",
        "**El resultado esperado es este:**\n",
        "\n",
        "Error: No se puede dividir 100 entre 0.\n",
        "El resultado de dividir 100 entre 10 es 10.0\n",
        "Error: Tanto el numerador como el denominador deben ser números.\n"
      ],
      "metadata": {
        "id": "HAWHb_l1ksjF"
      }
    },
    {
      "cell_type": "code",
      "source": [],
      "metadata": {
        "id": "cGF_GjoalGBz"
      },
      "execution_count": null,
      "outputs": []
    },
    {
      "cell_type": "code",
      "source": [
        "a = 100\n",
        "b = 0\n",
        "c = 10\n",
        "d = 'a'\n",
        "\n",
        "# Primera división\n",
        "numerator = a\n",
        "denominator = b\n",
        "try:\n",
        "    result = numerator / denominator\n",
        "    # Uso de un F-string para formatear la salida\n",
        "    print(f\"El resultado de dividir {numerator} entre {denominator} es {result}\")\n",
        "except ZeroDivisionError:\n",
        "    # Manejo de la división entre cero\n",
        "    print(f\"Error: No se puede dividir {numerator} entre {denominator}.\")\n",
        "\n",
        "# Segunda división\n",
        "numerator = a\n",
        "denominator = c\n",
        "try:\n",
        "    result = numerator / denominator\n",
        "    # Uso de un F-string para formatear la salida\n",
        "    print(f\"El resultado de dividir {numerator} entre {denominator} es {result}\")\n",
        "except ZeroDivisionError:\n",
        "    # Manejo de la división entre cero\n",
        "    print(f\"Error: No se puede dividir {numerator} entre {denominator}.\")\n",
        "\n",
        "# Tercera división\n",
        "numerator = a\n",
        "denominator = d\n",
        "try:\n",
        "    result = numerator / denominator\n",
        "    # Uso de un F-string para formatear la salida\n",
        "    print(f\"El resultado de dividir {numerator} entre {denominator} es {result}\")\n",
        "except TypeError:\n",
        "    # Manejo de los tipos de entradas incorrectas\n",
        "    print(f\"Error: Tanto el numerador como el denominador deben ser números.\")\n"
      ],
      "metadata": {
        "colab": {
          "base_uri": "https://localhost:8080/"
        },
        "id": "BGLIADbigcKv",
        "outputId": "991c4913-59ed-466e-d94d-785aeef8a868"
      },
      "execution_count": null,
      "outputs": [
        {
          "output_type": "stream",
          "name": "stdout",
          "text": [
            "Error: No se puede dividir 100 entre 0.\n",
            "El resultado de dividir 100 entre 10 es 10.0\n",
            "Error: Tanto el numerador como el denominador deben ser números.\n"
          ]
        }
      ]
    },
    {
      "cell_type": "markdown",
      "source": [
        "# Métodos de strings"
      ],
      "metadata": {
        "id": "BHdhTRIMmB6u"
      }
    },
    {
      "cell_type": "code",
      "source": [
        "\n",
        "#Usa lower() para convertir la siguiente lista de compras a minúsculas.\n",
        "#Reasigna la variable shopping_list a continuación con la lista convertida.\n",
        "\n",
        "#La salida esperada es esta:\n",
        "\n",
        "#manzanas\n",
        "#naranjas\n",
        "#leche\n",
        "#manzanas\n",
        "#pan\n",
        "#helado\n",
        "#manzanas\n",
        "#aceite de oliva\n",
        "#pan\n",
        "\n",
        "\n",
        "shopping_list = '''MANZANAS\n",
        "naranjas\n",
        "leche\n",
        "Manzanas\n",
        "pan\n",
        "helado\n",
        "manzanas\n",
        "ACEITE DE OLIVA\n",
        "Pan'''\n",
        "\n",
        "shopping_list = shopping_list.lower()\n",
        "print(shopping_list)"
      ],
      "metadata": {
        "colab": {
          "base_uri": "https://localhost:8080/"
        },
        "id": "R6Y6arfotPWt",
        "outputId": "523923cd-8dc3-4ce9-fc2a-4bf82723747d"
      },
      "execution_count": null,
      "outputs": [
        {
          "output_type": "stream",
          "name": "stdout",
          "text": [
            "manzanas\n",
            "naranjas\n",
            "leche\n",
            "manzanas\n",
            "pan\n",
            "helado\n",
            "manzanas\n",
            "aceite de oliva\n",
            "pan\n"
          ]
        }
      ]
    },
    {
      "cell_type": "code",
      "source": [
        "#Usa replace() para reemplazar todas las ocurrencias de 'manzana'\n",
        "#por 'naranja' en el siguiente string y asigna el string modificado\n",
        "#a la variable new_string. Muestra new_string.\n",
        "\n",
        "#La salida esperada es esta:\n",
        "\n",
        "#Yo tengo una naranja, ella tiene una naranja, él tiene una naranja, todos tenemos naranjas.\n",
        "\n",
        "old_string = \"Yo tengo una manzana, ella tiene una manzana, él tiene una manzana, todos tenemos manzanas.\"\n",
        "new_string = old_string.replace(\"manzana\", \"naranja\")\n",
        "\n",
        "print(new_string)\n"
      ],
      "metadata": {
        "colab": {
          "base_uri": "https://localhost:8080/"
        },
        "id": "CLcWNmNMuH9l",
        "outputId": "f58beea8-8d28-419d-9ed3-97bd7c1fff2c"
      },
      "execution_count": null,
      "outputs": [
        {
          "output_type": "stream",
          "name": "stdout",
          "text": [
            "Yo tengo una naranja, ella tiene una naranja, él tiene una naranja, todos tenemos naranjas.\n"
          ]
        }
      ]
    },
    {
      "cell_type": "code",
      "source": [
        "#Te han dado un string sentence que tiene espacios extra antes del texto.\n",
        "#Utiliza el método strip() para eliminar estos espacios.\n",
        "#Cuando se hayan eliminado, reemplaza todos los espacios en el string con -.\n",
        "\n",
        "#Asigna el string modificado a una nueva variable llamada\n",
        "#new_sentence y muéstrala.\n",
        "\n",
        "#La salida esperada es esta:\n",
        "#Python-es-un-lenguaje-de-programación-interpretado,\n",
        "#-de-alto-nivel-y-de-propósito-general.\n",
        "\n",
        "sentence = \"   Python es un lenguaje de programación interpretado, de alto nivel y de propósito general.   \"\n",
        "new_sentence = sentence.strip()\n",
        "new_sentence = new_sentence.replace(\" \", \"-\")\n",
        "\n",
        "# finalmente, imprime tu string resultante aquí\n",
        "\n",
        "print(new_sentence)"
      ],
      "metadata": {
        "colab": {
          "base_uri": "https://localhost:8080/"
        },
        "id": "C5LlGHYkuaox",
        "outputId": "b7a82fd3-612a-4dbf-8a95-c258dc78a620"
      },
      "execution_count": null,
      "outputs": [
        {
          "output_type": "stream",
          "name": "stdout",
          "text": [
            "Python-es-un-lenguaje-de-programación-interpretado,-de-alto-nivel-y-de-propósito-general.\n"
          ]
        }
      ]
    },
    {
      "cell_type": "markdown",
      "source": [
        "Ejercicio 1\n",
        "Reemplaza el substring 'corto' por el substring 'breve' en la cadena quote. Muestra quote cuando realices este cambio.\n",
        "\n",
        "La salida esperada es esta:\n",
        "**La vida es demasiado corta para no divertirse; estamos aquí por un breve tiempo en comparación con el Sol y la Luna y todo eso**\n"
      ],
      "metadata": {
        "id": "gd6vvsdSvFwy"
      }
    },
    {
      "cell_type": "code",
      "source": [
        "quote = 'La vida es demasiado corta para no divertirse; estamos aquí por un corto tiempo en comparación con el Sol y la Luna y todo eso'\n",
        "\n",
        "# escribe tu código aquí\n",
        "print(quote.replace(\"corto\",\"breve\"))"
      ],
      "metadata": {
        "colab": {
          "base_uri": "https://localhost:8080/"
        },
        "id": "X63LQf6FvJAU",
        "outputId": "d854755d-4fe8-43e5-e407-62285ab570cb"
      },
      "execution_count": null,
      "outputs": [
        {
          "output_type": "stream",
          "name": "stdout",
          "text": [
            "La vida es demasiado corta para no divertirse; estamos aquí por un breve tiempo en comparación con el Sol y la Luna y todo eso\n"
          ]
        }
      ]
    },
    {
      "cell_type": "markdown",
      "source": [
        "Supongamos que estás creando un programa que recibe la entrada del usuario y la guarda en una base de datos. Quieres asegurarte de que todas las letras en su entrada estén en mayúsculas y sin espacios en blanco adicionales.\n",
        "\n",
        "La salida esperada es esta:\n",
        "\n",
        "**MARADONA**\n",
        "\n",
        "Completa el siguiente precódigo para obtener el string de entrada de usuario limpio:"
      ],
      "metadata": {
        "id": "QO_QXNFHvguK"
      }
    },
    {
      "cell_type": "code",
      "source": [
        "user_input = \" MaRaDoNa \"\n",
        "clean_input = user_input.strip()\n",
        "clean_input = clean_input.upper()\n",
        "# escribe tu código aquí\n",
        "\n",
        "print(clean_input)\n"
      ],
      "metadata": {
        "colab": {
          "base_uri": "https://localhost:8080/"
        },
        "id": "grimfsBPvlf9",
        "outputId": "5de4fd77-c76e-42b3-8224-bac44a3c24e3"
      },
      "execution_count": null,
      "outputs": [
        {
          "output_type": "stream",
          "name": "stdout",
          "text": [
            " MARADONA \n"
          ]
        }
      ]
    },
    {
      "cell_type": "markdown",
      "source": [
        "# Pruebas"
      ],
      "metadata": {
        "id": "LnbbavrNxjsM"
      }
    },
    {
      "cell_type": "code",
      "source": [
        "name = 'Clint Eastwood'\n",
        "print(name[100:])"
      ],
      "metadata": {
        "colab": {
          "base_uri": "https://localhost:8080/"
        },
        "id": "U5NJ_sTJxmjL",
        "outputId": "12329547-a174-4733-f80b-16a4fa65f9a5"
      },
      "execution_count": null,
      "outputs": [
        {
          "output_type": "stream",
          "name": "stdout",
          "text": [
            "\n"
          ]
        }
      ]
    }
  ]
}