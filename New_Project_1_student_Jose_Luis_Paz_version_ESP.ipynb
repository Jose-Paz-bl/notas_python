{
  "cells": [
    {
      "cell_type": "markdown",
      "metadata": {
        "id": "view-in-github",
        "colab_type": "text"
      },
      "source": [
        "<a href=\"https://colab.research.google.com/github/Jose-Paz-bl/notas_python/blob/main/New_Project_1_student_Jose_Luis_Paz_version_ESP.ipynb\" target=\"_parent\"><img src=\"https://colab.research.google.com/assets/colab-badge.svg\" alt=\"Open In Colab\"/></a>"
      ]
    },
    {
      "cell_type": "markdown",
      "metadata": {
        "id": "1rZb6AstYhl4"
      },
      "source": [
        "\n",
        "# Proyecto 1 — Primera Fase\n",
        "\n",
        "Como parte del equipo de análisis de Store 1, comenzarás trabajando con datos de clientes y sus compras.\n",
        "\n",
        "Tu tarea es limpiar y preparar estos datos para que puedan ser utilizados en futuros análisis de negocio orientados a identificar clientes leales, analizar ingresos por categoría y buscar oportunidades de marketing.\n",
        "\n",
        "---\n"
      ]
    },
    {
      "cell_type": "markdown",
      "metadata": {
        "id": "aZ40WbF5Jm9V"
      },
      "source": [
        "## Paso 1\n",
        "\n",
        "Store 1 está revisando la calidad y coherencia de sus datos de clientes. Para evitar duplicados y asegurar consistencia en el registro de clientes, es necesario limpiar los nombres eliminando espacios y símbolos innecesarios.\n",
        "\n",
        "En este primer paso, trabajarás con un nombre de usuario que presenta errores de formato:\n",
        "\n",
        "* Espacios adicionales al inicio y al final.\n",
        "* El guion bajo (`_`) usado como separador entre el nombre y el apellido.\n",
        "\n",
        "**Tarea:**\n",
        "\n",
        "1. Limpia el dato eliminando los espacios innecesarios en la variable `usuario_nombre`.\n",
        "2. Reemplaza el guion bajo por un espacio."
      ]
    },
    {
      "cell_type": "code",
      "execution_count": 50,
      "metadata": {
        "colab": {
          "base_uri": "https://localhost:8080/"
        },
        "id": "_uOLKjF8Jm9V",
        "outputId": "9924258d-7860-4ce1-828d-54c255853289"
      },
      "outputs": [
        {
          "output_type": "stream",
          "name": "stdout",
          "text": [
            "mike reed\n"
          ]
        }
      ],
      "source": [
        "usuario_nombre = ' mike_reed '\n",
        "\n",
        "# 1. Limpia el dato eliminando los espacios innecesarios en la variable user_name\n",
        "usuario_nombre = usuario_nombre.strip()\n",
        "\n",
        "# 2. Reemplaza el guion bajo por un espacio.\n",
        "usuario_nombre = usuario_nombre.replace(\"_\",\" \")\n",
        "\n",
        "print(usuario_nombre)"
      ]
    },
    {
      "cell_type": "markdown",
      "metadata": {
        "id": "Kxe9MxvVJm9V"
      },
      "source": [
        "<details>\n",
        "<summary>Haz clic para ver la pista</summary>\n",
        "\n",
        "Utiliza el método `strip()` para eliminar los espacios al principio y al final de la cadena.\n",
        "\n",
        "Utiliza el método `replace()` para sustituir el guion bajo `_` por un espacio."
      ]
    },
    {
      "cell_type": "markdown",
      "metadata": {
        "id": "IBQlePCsJm9V"
      },
      "source": [
        "## Paso 2\n",
        "\n",
        "Después de limpiar el `usuario_nombre`, vamos a seguir procesando el dato. Separar los nombres permitirá personalizar las campañas del programa de fidelización.\n",
        "\n",
        "**Tarea:**\n",
        "\n",
        "1. Dividir el `usuario_nombre` ya corregido en dos partes, para obtener una lista con el nombre y el apellido separados."
      ]
    },
    {
      "cell_type": "code",
      "execution_count": 6,
      "metadata": {
        "colab": {
          "base_uri": "https://localhost:8080/"
        },
        "id": "0mYAxetNJm9W",
        "outputId": "ea6e6d00-fa10-44df-c605-6ac53d4d9fd9"
      },
      "outputs": [
        {
          "output_type": "stream",
          "name": "stdout",
          "text": [
            "['mike', 'reed']\n"
          ]
        }
      ],
      "source": [
        "usuario_nombre = 'mike reed'\n",
        "\n",
        "# 1. Divide el usuario en dos partes: nombre y apellido\n",
        "usuario_sep = usuario_nombre.split(\" \")\n",
        "\n",
        "print(usuario_sep)"
      ]
    },
    {
      "cell_type": "markdown",
      "metadata": {
        "id": "sVDWXaavJm9W"
      },
      "source": [
        "<details>\n",
        "<summary>Haz clic para ver la pista</summary>\n",
        "\n",
        "Utiliza el método `split()` indicando el carácter separador.\n"
      ]
    },
    {
      "cell_type": "markdown",
      "metadata": {
        "id": "bcNebWVsJm9W"
      },
      "source": [
        "## Paso 3\n",
        "\n",
        "¡Genial! Para segmentar correctamente a los clientes por edad, es necesario transformar la edad a tipo numérico. Ahora trabajaremos con la variable `usuario_edad`. Su tipo de dato es incorrecto.\n",
        "\n",
        "**Tarea:**\n",
        "\n",
        "1. Convierte el valor al tipo de dato correcto.\n",
        "2. Muestra el resultado."
      ]
    },
    {
      "cell_type": "code",
      "execution_count": 10,
      "metadata": {
        "colab": {
          "base_uri": "https://localhost:8080/"
        },
        "id": "g0FZSll4Jm9W",
        "outputId": "7a6fbe55-5214-4599-c3e2-9e9fb9a470bc"
      },
      "outputs": [
        {
          "output_type": "stream",
          "name": "stdout",
          "text": [
            "32\n"
          ]
        }
      ],
      "source": [
        "usuario_edad = 32.0\n",
        "\n",
        "# 1. Convierte el valor al tipo de dato correcto\n",
        "usuario_edad = int(usuario_edad)\n",
        "\n",
        "print(usuario_edad)"
      ]
    },
    {
      "cell_type": "markdown",
      "metadata": {
        "id": "r4a-d2veJm9W"
      },
      "source": [
        "<details>\n",
        "<summary>Haz clic para ver la pista</summary>\n",
        "\n",
        "Usa la función int() para convertir el valor a entero.\n"
      ]
    },
    {
      "cell_type": "markdown",
      "metadata": {
        "id": "U0bvLZOVJm9W"
      },
      "source": [
        "## Paso 4\n",
        "\n",
        "Algunos registros contienen edades no válidas. Debemos validar los datos antes del análisis.\n",
        "\n",
        "**Tarea:**\n",
        "\n",
        "1. Escribe un código que intente convertir `usuario_edad` a entero y lo guarde en `usuario_edad_int`.\n",
        "\n",
        "2. Si falla, muestra el mensaje:\n",
        "`Proporcione su edad como un valor numérico.`"
      ]
    },
    {
      "cell_type": "code",
      "execution_count": 14,
      "metadata": {
        "colab": {
          "base_uri": "https://localhost:8080/"
        },
        "id": "bKxiA-voJm9W",
        "outputId": "13d09271-6149-4bf2-844b-40282e0f3ae4"
      },
      "outputs": [
        {
          "output_type": "stream",
          "name": "stdout",
          "text": [
            "Proporcione su edad como un valor numérico.\n"
          ]
        }
      ],
      "source": [
        "usuario_edad = 'treinta y dos'\n",
        "\n",
        "# 1. Intenta convertir usuario_edad a entero y guárdalo en usuario_edad_int\n",
        "# 2. Si falla, muestra el mensaje correspondiente\n",
        "\n",
        "# escribe tu código aquí\n",
        "\n",
        "try:\n",
        "  usuario_edad_int = int(usuario_edad)\n",
        "  print(usuario_edad_int)\n",
        "except:\n",
        "  print(\"Proporcione su edad como un valor numérico.\")"
      ]
    },
    {
      "cell_type": "markdown",
      "metadata": {
        "id": "YAFlIV8OL6S5"
      },
      "source": [
        "<details>\n",
        "<summary>Haz clic para ver la pista</summary>\n",
        "\n",
        "Usa `try` / `except` para manejar errores al convertir con `int()`."
      ]
    },
    {
      "cell_type": "markdown",
      "metadata": {
        "id": "geo-WB0KW3Ji"
      },
      "source": [
        "## Paso 5\n",
        "\n",
        "Ordenar los registros facilita su revisión y permite construir reportes claros para el programa de fidelización.\n",
        "\n",
        "**Tarea:**\n",
        "\n",
        "1. Ordena la lista por el ID de usuario en orden ascendente."
      ]
    },
    {
      "cell_type": "code",
      "execution_count": 15,
      "metadata": {
        "colab": {
          "base_uri": "https://localhost:8080/"
        },
        "id": "Re_QlnnLW3Jo",
        "outputId": "b041e20f-2dff-4afb-b8eb-d9e162886f0b"
      },
      "outputs": [
        {
          "output_type": "stream",
          "name": "stdout",
          "text": [
            "[['31980', 'kate morgan', 24.0, ['ROPA', 'LIBROS'], [439, 390]], ['32156', ' john doe ', 37.0, ['ELECTRÓNICA', 'HOGAR', 'COMIDA'], [459, 120, 99]], ['32415', ' mike_reed ', 32.0, ['ELECTRÓNICA', 'DEPORTE', 'LIBROS'], [894, 213, 173]], ['32761', 'SAMANTHA SMITH', 29.0, ['ROPA', 'ELECTRÓNICA', 'BELLEZA'], [299, 679, 85]], ['32984', 'David White', 41.0, ['LIBROS', 'HOGAR', 'DEPORTE'], [234, 329, 243]], ['33001', 'emily brown', 26.0, ['BELLEZA', 'HOGAR', 'COMIDA'], [213, 659, 79]], ['33767', ' Maria Garcia', 33.0, ['ROPA', 'COMIDA', 'BELLEZA'], [499, 189, 63]], ['33912', 'JOSE MARTINEZ', 22.0, ['DEPORTE', 'ELECTRÓNICA', 'HOGAR'], [259, 549, 109]], ['34009', 'lisa wilson ', 35.0, ['HOGAR', 'LIBROS', 'ROPA'], [329, 189, 329]], ['34278', 'James Lee', 28.0, ['BELLEZA', 'ROPA', 'ELECTRÓNICA'], [189, 299, 579]]]\n"
          ]
        }
      ],
      "source": [
        "usuarios = [\n",
        "    ['32415', ' mike_reed ', 32.0, ['ELECTRÓNICA', 'DEPORTE', 'LIBROS'], [894, 213, 173]],\n",
        "    ['31980', 'kate morgan', 24.0, ['ROPA', 'LIBROS'], [439, 390]],\n",
        "    ['32156', ' john doe ', 37.0, ['ELECTRÓNICA', 'HOGAR', 'COMIDA'], [459, 120, 99]],\n",
        "    ['32761', 'SAMANTHA SMITH', 29.0, ['ROPA', 'ELECTRÓNICA', 'BELLEZA'], [299, 679, 85]],\n",
        "    ['32984', 'David White', 41.0, ['LIBROS', 'HOGAR', 'DEPORTE'], [234, 329, 243]],\n",
        "    ['33001', 'emily brown', 26.0, ['BELLEZA', 'HOGAR', 'COMIDA'], [213, 659, 79]],\n",
        "    ['33767', ' Maria Garcia', 33.0, ['ROPA', 'COMIDA', 'BELLEZA'], [499, 189, 63]],\n",
        "    ['33912', 'JOSE MARTINEZ', 22.0, ['DEPORTE', 'ELECTRÓNICA', 'HOGAR'], [259, 549, 109]],\n",
        "    ['34009', 'lisa wilson ', 35.0, ['HOGAR', 'LIBROS', 'ROPA'], [329, 189, 329]],\n",
        "    ['34278', 'James Lee', 28.0, ['BELLEZA', 'ROPA', 'ELECTRÓNICA'], [189, 299, 579]],\n",
        "]\n",
        "\n",
        "\n",
        "# 1. Ordena la lista por el ID de usuario en orden ascendente\n",
        "# escribe tu código aquí\n",
        "usuarios.sort()\n",
        "print(usuarios)"
      ]
    },
    {
      "cell_type": "markdown",
      "metadata": {
        "id": "uxG5diF0W3Jo"
      },
      "source": [
        "<details>\n",
        "<summary>Haz clic para ver la pista</summary>\n",
        "\n",
        "Puedes utilizar el método `sort()` en la lista de usuarios para ordenarla de forma ascendente.\n"
      ]
    },
    {
      "cell_type": "markdown",
      "metadata": {
        "id": "VRqEQFJiJm9X"
      },
      "source": [
        "## Paso 6\n",
        "\n",
        "Para identificar a los mejores clientes, es necesario conocer el gasto total por categorías.\n",
        "\n",
        "**Tarea:**\n",
        "\n",
        "1. Calcula la suma de los gastos del usuario\n",
        "2. Muestra el resultado.\n"
      ]
    },
    {
      "cell_type": "code",
      "execution_count": 21,
      "metadata": {
        "colab": {
          "base_uri": "https://localhost:8080/"
        },
        "id": "sjNmuLsQJm9X",
        "outputId": "711e2302-f561-4996-fb95-3c2c8e3a647d"
      },
      "outputs": [
        {
          "output_type": "stream",
          "name": "stdout",
          "text": [
            "1280\n"
          ]
        }
      ],
      "source": [
        "categorias_fav_low = ['electrónica', 'deporte', 'libros']\n",
        "gasto_por_categoria = [894, 213, 173]\n",
        "\n",
        "# 1. Calcula la suma de los gastos del usuario\n",
        "suma_total = int(gasto_por_categoria[0] + gasto_por_categoria[1] + gasto_por_categoria[2])\n",
        "\n",
        "print(suma_total)\n"
      ]
    },
    {
      "cell_type": "markdown",
      "metadata": {
        "id": "VMh87UdWJm9X"
      },
      "source": [
        "<details>\n",
        "<summary>Haz clic para ver la pista</summary>\n",
        "\n",
        "Utiliza la indexación para sumar los valores. Por ejemplo, si tienes la lista `numeros = [10, 20, 30]`, puedes acceder a los elementos con `numeros[0]`, `numeros[1]`, etc.\n"
      ]
    },
    {
      "cell_type": "markdown",
      "metadata": {
        "id": "zP0nVV5FJm9Y"
      },
      "source": [
        "## Paso 7\n",
        "\n",
        "Generar resúmenes de cada cliente permite crear reportes ejecutivos rápidos para la dirección.\n",
        "\n",
        "**Tarea:**\n",
        "\n",
        "1. Usa las variables `usuario_id`, `usuario_nombre` y `usuario_edad` para crear la siguiente cadena:\n",
        "\n",
        "  `El usuario 32415 es Mike, quien tiene 32 años.`\n"
      ]
    },
    {
      "cell_type": "code",
      "execution_count": 32,
      "metadata": {
        "colab": {
          "base_uri": "https://localhost:8080/"
        },
        "id": "8mlIJr4OJm9Y",
        "outputId": "503beb12-084c-4785-eb88-be24aaed7a8e"
      },
      "outputs": [
        {
          "output_type": "stream",
          "name": "stdout",
          "text": [
            "El usuario 32415 es Mike, quien tiene 32 años.\n"
          ]
        }
      ],
      "source": [
        "usuario_id = '32415'\n",
        "usuario_nombre = ['mike', 'reed']\n",
        "usuario_edad = 32\n",
        "\n",
        "# 1. Crea la cadena de resumen del cliente\n",
        "usuario_info = f\"El usuario {usuario_id} es {usuario_nombre[0][0].upper() + usuario_nombre[0][1:]}, quien tiene {usuario_edad} años.\"\n",
        "\n",
        "print(usuario_info)"
      ]
    },
    {
      "cell_type": "markdown",
      "metadata": {
        "id": "vZCOPWq9Jm9Y"
      },
      "source": [
        "<details>\n",
        "<summary>Haz clic para ver la pista</summary>\n",
        "\n",
        "Para crear una cadena, puedes utilizar una f-string. Para extraer el nombre de la lista `usuario`, puedes utilizar la segmentación.\n",
        "\n",
        "Ejemplo:\n",
        "\n",
        "```\n",
        "nombre = \"Luis\"\n",
        "mensaje = f\"Hola, {nombre}!\"\n",
        "```\n",
        "\n"
      ]
    },
    {
      "cell_type": "markdown",
      "metadata": {
        "id": "xOj8_G0ZO9mM"
      },
      "source": [
        "## Paso 8\n",
        "\n",
        "La dirección necesita saber cuántos clientes tiene registrados para medir el alcance del programa.\n",
        "\n",
        "**Tarea:**\n",
        "\n",
        "1. Crea una cadena formateada que muestre la cantidad de clientes registrados:\n",
        "`Hemos registrado datos de X clientes.`"
      ]
    },
    {
      "cell_type": "code",
      "execution_count": 35,
      "metadata": {
        "id": "eGvjS1rkO9mS",
        "colab": {
          "base_uri": "https://localhost:8080/"
        },
        "outputId": "4ebdea89-6579-484c-e603-54374ca54bb6"
      },
      "outputs": [
        {
          "output_type": "stream",
          "name": "stdout",
          "text": [
            "Hemos registrado datos de 10 clientes.\n"
          ]
        }
      ],
      "source": [
        "usuarios = [\n",
        "    ['32415', ' mike_reed ', 32.0, ['ELECTRÓNICA', 'DEPORTE', 'LIBROS'], [894, 213, 173]],\n",
        "    ['31980', 'kate morgan', 24.0, ['ROPA', 'LIBROS'], [439, 390]],\n",
        "    ['32156', ' john doe ', 37.0, ['ELECTRÓNICA', 'HOGAR', 'COMIDA'], [459, 120, 99]],\n",
        "    ['32761', 'SAMANTHA SMITH', 29.0, ['ROPA', 'ELECTRÓNICA', 'BELLEZA'], [299, 679, 85]],\n",
        "    ['32984', 'David White', 41.0, ['LIBROS', 'HOGAR', 'DEPORTE'], [234, 329, 243]],\n",
        "    ['33001', 'emily brown', 26.0, ['BELLEZA', 'HOGAR', 'COMIDA'], [213, 659, 79]],\n",
        "    ['33767', ' Maria Garcia', 33.0, ['ROPA', 'COMIDA', 'BELLEZA'], [499, 189, 63]],\n",
        "    ['33912', 'JOSE MARTINEZ', 22.0, ['DEPORTE', 'ELECTRÓNICA', 'HOGAR'], [259, 549, 109]],\n",
        "    ['34009', 'lisa wilson ', 35.0, ['HOGAR', 'LIBROS', 'ROPA'], [329, 189, 329]],\n",
        "    ['34278', 'James Lee', 28.0, ['BELLEZA', 'ROPA', 'ELECTRÓNICA'], [189, 299, 579]],\n",
        "]\n",
        "\n",
        "# 1. Cuenta el número de clientes registrados\n",
        "usuarios_info = f\"Hemos registrado datos de {len(usuarios)} clientes.\"\n",
        "\n",
        "\n",
        "print(usuarios_info)"
      ]
    },
    {
      "cell_type": "markdown",
      "metadata": {
        "id": "B0oHnhDaO9mS"
      },
      "source": [
        "<details>\n",
        "<summary>Haz clic para ver la pista</summary>\n",
        "\n",
        "Para crear una cadena, puedes utilizar una f-string. Para extraer la cantidad de clientes en la lista, puedes utilizar la función que devuelve la longitud de la lista.\n",
        "\n",
        "Ejemplo:\n",
        "\n",
        "```\n",
        "nombre = \"Luis\"\n",
        "mensaje = f\"Hola, {nombre}!\"\n",
        "```\n",
        "\n"
      ]
    },
    {
      "cell_type": "markdown",
      "metadata": {
        "id": "CVVBVYzORu7I"
      },
      "source": [
        "## Paso 9\n",
        "\n",
        "Aplicar la limpieza a todos los registros garantiza consistencia antes de lanzar el programa de fidelización.\n",
        "\n",
        "**Tarea:**\n",
        "\n",
        "1. Elimina los espacios iniciales y finales de los nombres y reemplaza los guiones bajos por espacios.\n",
        "2. Convierte las edades a números enteros.\n",
        "3. Separa los nombres y apellidos en una sublista.\n",
        "4. Guarda el resultado en una nueva lista llamada `usuarios_limpio`\n",
        "5. Muéstrala en pantalla.\n"
      ]
    },
    {
      "cell_type": "code",
      "execution_count": 49,
      "metadata": {
        "id": "9qu_k6XURu7O",
        "colab": {
          "base_uri": "https://localhost:8080/"
        },
        "outputId": "caa21492-ecbd-4421-f6fe-549cceb2bb45"
      },
      "outputs": [
        {
          "output_type": "stream",
          "name": "stdout",
          "text": [
            "[['32415', ['Mike', 'Reed'], 32, ['ELECTRÓNICA', 'DEPORTE', 'LIBROS'], [894, 213, 173]], ['31980', ['Kate', 'Morgan'], 24, ['ROPA', 'LIBROS'], [439, 390]], ['32156', ['John', 'Doe'], 37, ['ELECTRÓNICA', 'HOGAR', 'COMIDA'], [459, 120, 99]]]\n"
          ]
        }
      ],
      "source": [
        "usuarios = [\n",
        "    ['32415', ' mike_reed ', 32.0, ['ELECTRÓNICA', 'DEPORTE', 'LIBROS'], [894, 213, 173]],\n",
        "    ['31980', 'kate morgan', 24.0, ['ROPA', 'LIBROS'], [439, 390]],\n",
        "    ['32156', ' john doe ', 37.0, ['ELECTRÓNICA', 'HOGAR', 'COMIDA'], [459, 120, 99]],\n",
        "]\n",
        "\n",
        "usuarios_limpio = []\n",
        "\n",
        "# Procesa al primer usuario\n",
        "# 1. Limpia espacios y reemplaza guión bajo\n",
        "usuario_nombre_1 = usuarios[0][1].strip()\n",
        "usuario_nombre_1 = usuarios[0][1].replace(\"_\",\" \")\n",
        "# 2. Convierte edad a entero\n",
        "usuario_edad_1 = int(usuarios[0][2])\n",
        "# 3. Separa el nombre\n",
        "usuario_nombre_1 = usuario_nombre_1.split()\n",
        "usuario_nombre_1[0] = usuario_nombre_1[0][0].upper() + usuario_nombre_1[0][1:]\n",
        "usuario_nombre_1[1] = usuario_nombre_1[1][0].upper() + usuario_nombre_1[1][1:]\n",
        "# 4. Agrega el usuario limpio a la lista\n",
        "usuarios_limpio.append([usuarios[0][0],usuario_nombre_1,usuario_edad_1,usuarios[0][3],usuarios[0][4]])\n",
        "\n",
        "\n",
        "# Procesa al segundo usuario\n",
        "# Limpieza de datos\n",
        "usuario_nombre_2 =  usuarios[1][1].strip()\n",
        "usuario_nombre_2 = usuarios[1][1].replace(\"_\",\" \")\n",
        "# Edad a entero\n",
        "usuario_edad_2 = int(usuarios[1][2])\n",
        "# Homologación de nombre\n",
        "usuario_nombre_2 = usuario_nombre_2.split()\n",
        "usuario_nombre_2[0] = usuario_nombre_2[0][0].upper() + usuario_nombre_2[0][1:]\n",
        "usuario_nombre_2[1] = usuario_nombre_2[1][0].upper() + usuario_nombre_2[1][1:]\n",
        "# Agregar a lista\n",
        "usuarios_limpio.append([usuarios[1][0],usuario_nombre_2,usuario_edad_2,usuarios[1][3],usuarios[1][4]])\n",
        "\n",
        "\n",
        "# Procesa al tercer usuario\n",
        "# Limpieza de datos\n",
        "usuario_nombre_3 = usuarios[2][1].strip()\n",
        "usuario_nombre_3 = usuarios[2][1].replace(\"_\",\" \")\n",
        "# Edad a entero\n",
        "usuario_edad_3 = int(usuarios[2][2])\n",
        "# Homologación de nombre\n",
        "usuario_nombre_3 = usuario_nombre_3.split()\n",
        "usuario_nombre_3[0] = usuario_nombre_3[0][0].upper() + usuario_nombre_3[0][1:]\n",
        "usuario_nombre_3[1] = usuario_nombre_3[1][0].upper() + usuario_nombre_3[1][1:]\n",
        "# Agregar a lista\n",
        "usuarios_limpio.append([usuarios[2][0],usuario_nombre_3,usuario_edad_3,usuarios[2][3],usuarios[2][4]])\n",
        "\n",
        "\n",
        "print(usuarios_limpio)\n"
      ]
    },
    {
      "cell_type": "markdown",
      "metadata": {
        "id": "TXMzdgzkRu7P"
      },
      "source": [
        "<details>\n",
        "<summary>Haz clic para ver la pista</summary>\n",
        "\n",
        "Para procesar a cada usuario, comienza por acceder a los elementos requeridos de la lista de usuarios. Por ejemplo, si tienes la lista numeros = [10, 20, 30], puedes acceder a los elementos con numeros[0], numeros[1], etc.\n",
        "\n",
        "Utiliza el método `strip()` para eliminar los espacios iniciales y finales y el método `replace('_',' ')` para reemplazar los guiones bajos por espacios en los nombres.\n",
        "\n",
        "Convierte la edad a un número entero utilizando `int()`.\n",
        "\n",
        "Separa el nombre completo en nombre y apellido utilizando el método `split()`.\n",
        "\n",
        "Por último, `append` (agrega) los datos limpios a la lista `users_clean`.\n"
      ]
    },
    {
      "cell_type": "markdown",
      "metadata": {
        "id": "06IMoD_nRmtf"
      },
      "source": [
        "----------\n"
      ]
    }
  ],
  "metadata": {
    "colab": {
      "provenance": [],
      "include_colab_link": true
    },
    "kernelspec": {
      "display_name": "Python 3 (ipykernel)",
      "language": "python",
      "name": "python3"
    },
    "language_info": {
      "codemirror_mode": {
        "name": "ipython",
        "version": 3
      },
      "file_extension": ".py",
      "mimetype": "text/x-python",
      "name": "python",
      "nbconvert_exporter": "python",
      "pygments_lexer": "ipython3",
      "version": "3.9.23"
    }
  },
  "nbformat": 4,
  "nbformat_minor": 0
}